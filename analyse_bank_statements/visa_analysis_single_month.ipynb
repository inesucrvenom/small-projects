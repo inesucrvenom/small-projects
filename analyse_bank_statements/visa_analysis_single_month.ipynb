{
 "cells": [
  {
   "cell_type": "markdown",
   "metadata": {},
   "source": [
    "# exploration how visa output differs from bank statements"
   ]
  },
  {
   "cell_type": "code",
   "execution_count": 1,
   "metadata": {},
   "outputs": [],
   "source": [
    "import camelot\n",
    "import pandas"
   ]
  },
  {
   "cell_type": "code",
   "execution_count": 2,
   "metadata": {},
   "outputs": [],
   "source": [
    "def remove_whitespace(x):\n",
    "    \"\"\"remove all whitespaces from a given string\"\"\"\n",
    "    if x is not None:\n",
    "        x = x.split()\n",
    "        x = ''.join(x)\n",
    "    return x"
   ]
  },
  {
   "cell_type": "markdown",
   "metadata": {},
   "source": [
    "vidi koja pravila data cleanupa ovdje trebaju"
   ]
  },
  {
   "cell_type": "code",
   "execution_count": 3,
   "metadata": {},
   "outputs": [],
   "source": [
    "def extract_transactions(tables_transactions):\n",
    "    \"\"\"\n",
    "    list of processed pdf pages -> dataframe with table that contains them all\n",
    "    get the list of all monthly transactions, clean the data\n",
    "    \"\"\"\n",
    "    transactions_list = []\n",
    "    for table in tables_transactions:\n",
    "        trans = table.df.values.tolist()\n",
    "        for row in trans:\n",
    "            transactions_list.append(row)\n",
    "    transactions = pandas.DataFrame(transactions_list)\n",
    "\n",
    "    transactions = transactions.applymap(remove_whitespace)\n",
    "\n",
    "    transactions = transactions.drop(columns=[1])\n",
    "    transactions.columns = ['date', 'trans_info', 'out']\n",
    "   \n",
    "    # cleanup data, remove all rows where date isn't date format\n",
    "    transactions = transactions[transactions['date'].str.match('\\d\\d\\.\\d\\d\\.\\d\\d\\d\\d') == True]\n",
    "\n",
    "    transactions.index = range(len(transactions.index))\n",
    "    \n",
    "    return transactions"
   ]
  },
  {
   "cell_type": "markdown",
   "metadata": {},
   "source": [
    "figuring out column dimensions in the console\n",
    "```\n",
    "camelot -p 1 stream -plot text private_test_visa.pdf &\n",
    "\n",
    "camelot -p 2 stream -plot text private_test_visa.pdf &\n",
    "\n",
    "camelot -p 3 stream -plot text private_test_visa.pdf &\n",
    "\n",
    "```\n",
    "\n",
    "check in the tool where are the limits\n",
    "\n",
    "final command\n",
    "\n",
    "```\n",
    "# table_areas = top_left x, y, bottom_right x, y // 0,0 is bottom left\n",
    "\n",
    "camelot --format html --output test.html --pages 1 stream -T 0,470,550,180 -C 135,210,470 private_test_visa.pdf\n",
    "camelot --format html --output test.html --pages 2 stream -T 0,715,550,0 -C 135,210,470 private_test_visa.pdf\n",
    "camelot --format html --output test.html --pages 3 stream -T 0,715,550,0 -C 135,210,470 private_test_visa.pdf\n",
    "\n",
    "```"
   ]
  },
  {
   "cell_type": "markdown",
   "metadata": {},
   "source": [
    "pronadji boundaries\n",
    "prva str je drugacija od ostalih\n",
    "\n",
    "pronadji velicine kolona\n",
    "\n",
    "begin balance je jednostavan, valjda\n",
    "end balance je drugacije postavljen"
   ]
  },
  {
   "cell_type": "code",
   "execution_count": 4,
   "metadata": {},
   "outputs": [],
   "source": [
    "def process_file(input_file):\n",
    "    \"\"\" for a given path to a pdf file, extract the transactional data as a list of transactions (list)\"\"\"\n",
    "\n",
    "    # table_areas = top_left x, y, bottom_right x, y // 0,0 is bottom left\n",
    "    first_page = camelot.read_pdf(input_file, flavor='stream', pages='1',\n",
    "                                          table_regions=['0,470,550,180'], columns=['135,210,470'])\n",
    "    other_pages = camelot.read_pdf(input_file, flavor='stream', pages='2-end',\n",
    "                                          table_regions=['0,715,550,0'], columns=['135,210,470'])\n",
    "    all_pages = []\n",
    "    all_pages += first_page\n",
    "    all_pages += other_pages\n",
    "    \n",
    "    result = extract_transactions(all_pages)\n",
    "    return result #.values.tolist()   "
   ]
  }
 ],
 "metadata": {
  "kernelspec": {
   "display_name": "Python 3",
   "language": "python",
   "name": "python3"
  },
  "language_info": {
   "codemirror_mode": {
    "name": "ipython",
    "version": 3
   },
   "file_extension": ".py",
   "mimetype": "text/x-python",
   "name": "python",
   "nbconvert_exporter": "python",
   "pygments_lexer": "ipython3",
   "version": "3.8.5"
  }
 },
 "nbformat": 4,
 "nbformat_minor": 4
}
