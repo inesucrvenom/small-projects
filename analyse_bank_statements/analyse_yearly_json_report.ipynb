{
 "cells": [
  {
   "cell_type": "markdown",
   "metadata": {},
   "source": [
    "# finally, analysis\n",
    "\n",
    "dig through your data in json, which was created by create_json_yearly_report"
   ]
  },
  {
   "cell_type": "code",
   "execution_count": null,
   "metadata": {},
   "outputs": [],
   "source": [
    "import pandas"
   ]
  },
  {
   "cell_type": "code",
   "execution_count": null,
   "metadata": {},
   "outputs": [],
   "source": [
    "pandas.options.display.max_colwidth = None"
   ]
  },
  {
   "cell_type": "code",
   "execution_count": null,
   "metadata": {},
   "outputs": [],
   "source": [
    "df = pandas.read_json(\"here_goes_your_report_2020.json\") ## put real filename"
   ]
  },
  {
   "cell_type": "markdown",
   "metadata": {},
   "source": [
    "use only those which have date under date, others are just bank informations / wrong parsed"
   ]
  },
  {
   "cell_type": "code",
   "execution_count": null,
   "metadata": {},
   "outputs": [],
   "source": [
    "df = df[df['date'].str.match('\\d\\d\\.\\d\\d') == True]"
   ]
  },
  {
   "cell_type": "markdown",
   "metadata": {},
   "source": [
    "create column for easier grouping"
   ]
  },
  {
   "cell_type": "code",
   "execution_count": null,
   "metadata": {},
   "outputs": [],
   "source": [
    "df['short'] = df['info'].str.extract(r'(^\\w{3,15})') # get first 20 alphanumeric chars, at least 3"
   ]
  },
  {
   "cell_type": "markdown",
   "metadata": {},
   "source": [
    "check uniques and use them for removing unneeded later"
   ]
  },
  {
   "cell_type": "code",
   "execution_count": null,
   "metadata": {},
   "outputs": [],
   "source": [
    "pandas.options.display.max_rows = 10\n",
    "df['short'].value_counts()"
   ]
  },
  {
   "cell_type": "code",
   "execution_count": null,
   "metadata": {},
   "outputs": [],
   "source": [
    "# remove rows of no interest, using either 'short' or 'info' column\n",
    "\n",
    "df = df[df['short'] != 'BAUHAUS']\n",
    "df = df[df['short'] != 'Auszahlung']\n",
    "\n",
    "df = df[df['info'].str.match(\".*AMAZON.*\") != True]\n",
    "df = df[df['info'].str.match(\".*EDEKA.*\") != True]\n",
    "df = df[df['info'].str.match(\".*APOTHE*\") != True]\n",
    "df = df[df['info'].str.match(\".*GOOGLE.*\") != True]\n",
    "df = df[df['info'].str.match(\".*UDEMY.*\") != True]\n"
   ]
  },
  {
   "cell_type": "code",
   "execution_count": null,
   "metadata": {},
   "outputs": [],
   "source": [
    "pandas.options.display.max_rows = None\n",
    "df = df.sort_values(['short', 'info', 'out'])\n",
    "df"
   ]
  }
 ],
 "metadata": {
  "kernelspec": {
   "display_name": "Python 3",
   "language": "python",
   "name": "python3"
  },
  "language_info": {
   "codemirror_mode": {
    "name": "ipython",
    "version": 3
   },
   "file_extension": ".py",
   "mimetype": "text/x-python",
   "name": "python",
   "nbconvert_exporter": "python",
   "pygments_lexer": "ipython3",
   "version": "3.8.5"
  }
 },
 "nbformat": 4,
 "nbformat_minor": 4
}
