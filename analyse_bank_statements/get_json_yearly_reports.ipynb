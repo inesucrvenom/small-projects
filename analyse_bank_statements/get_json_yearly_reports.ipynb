{
 "cells": [
  {
   "cell_type": "markdown",
   "metadata": {},
   "source": [
    "# creates .json report\n",
    "- for the whole year, years given in a variable\n",
    "- for the all accounts in a given folder"
   ]
  },
  {
   "cell_type": "code",
   "execution_count": null,
   "metadata": {},
   "outputs": [],
   "source": [
    "import pandas\n",
    "import os.path\n",
    "from ipynb.fs.full.bank_analysis_single_month import process_file as process_bank\n",
    "from ipynb.fs.full.visa_analysis_single_month import process_file as process_visa"
   ]
  },
  {
   "cell_type": "code",
   "execution_count": null,
   "metadata": {},
   "outputs": [],
   "source": [
    "pandas.options.display.max_colwidth = None\n",
    "real_run = False    # set to False if you want to only printout output .json filenames to check\""
   ]
  },
  {
   "cell_type": "code",
   "execution_count": null,
   "metadata": {},
   "outputs": [],
   "source": [
    "files_path = 'private_banka_izvodi/'\n",
    "years = [x for x in range(2017, 2021)]"
   ]
  },
  {
   "cell_type": "code",
   "execution_count": null,
   "metadata": {},
   "outputs": [],
   "source": [
    "def report_year(year_path, account):\n",
    "    report_year = []\n",
    "\n",
    "    for file in sorted([f for f in os.listdir(year_path) if os.path.isfile(year_path + f)]):\n",
    "        file_path = year_path + '/' + file\n",
    "        if account == 'visa':\n",
    "            if real_run:\n",
    "                report_year.extend(process_visa(file_path))\n",
    "        else:\n",
    "            if real_run:\n",
    "                report_year.extend(process_bank(file_path))\n",
    "\n",
    "    final = pandas.DataFrame(report_year)\n",
    "    if real_run:\n",
    "        final.columns = ['info', 'date', 'out', 'in']\n",
    "    \n",
    "    return final"
   ]
  },
  {
   "cell_type": "code",
   "execution_count": null,
   "metadata": {},
   "outputs": [],
   "source": [
    "def walk_years(path, account):\n",
    "    for year in years:\n",
    "        year_path = path + account + '/' + str(year) + '/'\n",
    "        if not os.path.exists(year_path):  # just skip non existent year\n",
    "            continue\n",
    "        if not len(os.listdir(year_path)):   # skip empty year dir\n",
    "            continue\n",
    "\n",
    "        output_file = path + account + '_' + str(year) + '.json'\n",
    "        report = report_year(year_path, account)\n",
    "        report.to_json(output_file)\n",
    "\n",
    "        print('done:', output_file)\n",
    "        year += 1\n",
    "    return\n",
    "\n",
    "def walk_visa_years(path, account):\n",
    "    pass"
   ]
  },
  {
   "cell_type": "code",
   "execution_count": null,
   "metadata": {},
   "outputs": [],
   "source": [
    "\n",
    "def walk_accounts(path):\n",
    "    \"\"\"iterate over accounts and years as subfolders\"\"\"\n",
    "\n",
    "    if not os.path.exists(path):\n",
    "        print(\"non existing path: \" + path)\n",
    "        return\n",
    "    if not len(os.listdir(path)):\n",
    "        print(\"empty: \", path)\n",
    "        return\n",
    "\n",
    "    for account in [f for f in os.listdir(path) if os.path.isdir(path + f)]:\n",
    "        if not len(os.listdir(path + account)):   # skip empty account dir\n",
    "            continue\n",
    "        walk_years(path, account)\n",
    "    print(\"finished\")\n",
    "    return"
   ]
  },
  {
   "cell_type": "code",
   "execution_count": null,
   "metadata": {
    "scrolled": true
   },
   "outputs": [],
   "source": [
    "walk_accounts(files_path)"
   ]
  }
 ],
 "metadata": {
  "kernelspec": {
   "display_name": "Python 3",
   "language": "python",
   "name": "python3"
  },
  "language_info": {
   "codemirror_mode": {
    "name": "ipython",
    "version": 3
   },
   "file_extension": ".py",
   "mimetype": "text/x-python",
   "name": "python",
   "nbconvert_exporter": "python",
   "pygments_lexer": "ipython3",
   "version": "3.8.5"
  }
 },
 "nbformat": 4,
 "nbformat_minor": 4
}
