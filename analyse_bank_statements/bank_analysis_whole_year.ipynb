{
 "cells": [
  {
   "cell_type": "markdown",
   "metadata": {},
   "source": [
    "# creates report for the whole year\n",
    "\n",
    "for an account that's set up in a variable"
   ]
  },
  {
   "cell_type": "code",
   "execution_count": 1,
   "metadata": {},
   "outputs": [],
   "source": [
    "import pandas\n",
    "import os.path\n",
    "from ipynb.fs.full.bank_analysis_single_month import process_file"
   ]
  },
  {
   "cell_type": "code",
   "execution_count": 2,
   "metadata": {},
   "outputs": [],
   "source": [
    "pandas.options.display.max_colwidth = None"
   ]
  },
  {
   "cell_type": "code",
   "execution_count": 3,
   "metadata": {},
   "outputs": [],
   "source": [
    "files_path = 'private_test/'\n",
    "years = [x for x in range(2017, 2021)]\n"
   ]
  },
  {
   "cell_type": "code",
   "execution_count": 4,
   "metadata": {},
   "outputs": [],
   "source": [
    "def report_year(year_path):\n",
    "    report_year = []\n",
    "\n",
    "    for file in sorted([f for f in os.listdir(year_path) if os.path.isfile(year_path + f)]):\n",
    "        file_path = year_path + '/' + file\n",
    "        report_year.extend(process_file(file_path))\n",
    "\n",
    "    final = pandas.DataFrame(report_year)\n",
    "    final.columns = ['info', 'date', 'out', 'in']\n",
    "    \n",
    "    return final"
   ]
  },
  {
   "cell_type": "code",
   "execution_count": 5,
   "metadata": {},
   "outputs": [],
   "source": [
    "\n",
    "def walk_through(path):\n",
    "    \"\"\"iterate over accounts and years as subfolders\"\"\"\n",
    "\n",
    "    if not os.path.exists(path):\n",
    "        print(\"non existing path: \" + path)\n",
    "        return\n",
    "    if not len(os.listdir(path)):\n",
    "        print(\"empty: \", path)\n",
    "        return\n",
    "\n",
    "    for account in [f for f in os.listdir(files_path) if os.path.isdir(files_path + f)]:\n",
    "        if not len(os.listdir(files_path + account)):   # skip empty account dir\n",
    "            continue\n",
    "\n",
    "        for year in years:\n",
    "            year_path = files_path + account + '/' + str(year) + '/'\n",
    "            if not os.path.exists(year_path):  # just skip non existent year\n",
    "                continue\n",
    "            if not len(os.listdir(year_path)):   # skip empty year dir\n",
    "                continue\n",
    "\n",
    "            output_file = files_path + account + '_' + str(year) + '.json'\n",
    "            report = report_year(year_path)\n",
    "            report.to_json(output_file)\n",
    "            print('output file', output_file)\n",
    "            year += 1\n",
    "\n",
    "    print(\"finished\")\n",
    "    return"
   ]
  },
  {
   "cell_type": "code",
   "execution_count": 6,
   "metadata": {
    "scrolled": true
   },
   "outputs": [
    {
     "name": "stdout",
     "output_type": "stream",
     "text": [
      "output file private_test/asa_2018.json\n",
      "finished\n"
     ]
    }
   ],
   "source": [
    "walk_through(files_path)"
   ]
  }
 ],
 "metadata": {
  "kernelspec": {
   "display_name": "Python 3",
   "language": "python",
   "name": "python3"
  },
  "language_info": {
   "codemirror_mode": {
    "name": "ipython",
    "version": 3
   },
   "file_extension": ".py",
   "mimetype": "text/x-python",
   "name": "python",
   "nbconvert_exporter": "python",
   "pygments_lexer": "ipython3",
   "version": "3.8.5"
  }
 },
 "nbformat": 4,
 "nbformat_minor": 4
}
