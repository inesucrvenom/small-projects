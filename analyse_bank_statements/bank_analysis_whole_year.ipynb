{
 "cells": [
  {
   "cell_type": "markdown",
   "metadata": {},
   "source": [
    "# creates report for the whole year\n",
    "\n",
    "for an account that's set up in a variable"
   ]
  },
  {
   "cell_type": "code",
   "execution_count": null,
   "metadata": {},
   "outputs": [],
   "source": [
    "import pandas\n",
    "import glob\n",
    "from ipynb.fs.full.bank_analysis_single_month import process_file"
   ]
  },
  {
   "cell_type": "code",
   "execution_count": null,
   "metadata": {},
   "outputs": [],
   "source": [
    "pandas.options.display.max_colwidth = None"
   ]
  },
  {
   "cell_type": "code",
   "execution_count": null,
   "metadata": {},
   "outputs": [],
   "source": [
    "files_path = 'private_banka_izvodi/'\n",
    "account = 'ines_ziro'"
   ]
  },
  {
   "cell_type": "code",
   "execution_count": null,
   "metadata": {},
   "outputs": [],
   "source": [
    "def report_year(year):\n",
    "\n",
    "    year_path = files_path + account + '/*' + str(year) + '*'\n",
    "\n",
    "    report_year = []\n",
    "\n",
    "    for file in sorted(glob.glob(year_path)):\n",
    "        print(file)\n",
    "        report_year.extend(process_file(file))\n",
    "\n",
    "    final = pandas.DataFrame(report_year)\n",
    "    final.columns = ['info', 'date', 'out', 'in']\n",
    "    \n",
    "    return final"
   ]
  },
  {
   "cell_type": "code",
   "execution_count": null,
   "metadata": {},
   "outputs": [],
   "source": [
    "year = 2017\n",
    "while year <= 2020:\n",
    "    output_file = files_path + account + '_' + str(year) + '.json'\n",
    "    print(output_file)\n",
    "    report_year(year).to_json(output_file)\n",
    "    year += 1\n",
    "\n",
    "print('done')"
   ]
  },
  {
   "cell_type": "code",
   "execution_count": null,
   "metadata": {
    "scrolled": true
   },
   "outputs": [],
   "source": []
  }
 ],
 "metadata": {
  "kernelspec": {
   "display_name": "Python 3",
   "language": "python",
   "name": "python3"
  },
  "language_info": {
   "codemirror_mode": {
    "name": "ipython",
    "version": 3
   },
   "file_extension": ".py",
   "mimetype": "text/x-python",
   "name": "python",
   "nbconvert_exporter": "python",
   "pygments_lexer": "ipython3",
   "version": "3.8.5"
  }
 },
 "nbformat": 4,
 "nbformat_minor": 4
}
