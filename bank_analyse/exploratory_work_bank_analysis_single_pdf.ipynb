{
 "cells": [
  {
   "cell_type": "markdown",
   "metadata": {},
   "source": [
    "# version for one pdf"
   ]
  },
  {
   "cell_type": "code",
   "execution_count": 1,
   "metadata": {},
   "outputs": [],
   "source": [
    "import camelot\n",
    "import pandas\n",
    "pandas.options.display.max_colwidth = None"
   ]
  },
  {
   "cell_type": "markdown",
   "metadata": {},
   "source": [
    "lattice mode is default, but doesn't recognise correctly transactions, only outer table, so I'll use it for getting header/footer eg start and end month balance\n",
    "\n",
    "I'll use stream mode to get inner table based on coordinates where tables are expected in each page\n"
   ]
  },
  {
   "cell_type": "code",
   "execution_count": 2,
   "metadata": {},
   "outputs": [],
   "source": [
    "# table_areas = top_left x, y, bottom_right x, y // 0,0 is bottom left\n",
    "# read all pages in bottom 600x600 square\n",
    "tables_transactions = camelot.read_pdf('private_test.pdf', flavor='stream', table_regions=['0,600,600,0'], pages='1-end')\n",
    "tables_for_balance = camelot.read_pdf('private_test.pdf', pages='1-end')"
   ]
  },
  {
   "cell_type": "markdown",
   "metadata": {},
   "source": [
    "getting to know the data"
   ]
  },
  {
   "cell_type": "code",
   "execution_count": 3,
   "metadata": {},
   "outputs": [],
   "source": [
    "# tables[0].parsing_report"
   ]
  },
  {
   "cell_type": "code",
   "execution_count": 4,
   "metadata": {},
   "outputs": [],
   "source": [
    "# camelot.plot(tables[0], kind='contour')"
   ]
  },
  {
   "cell_type": "code",
   "execution_count": 5,
   "metadata": {},
   "outputs": [],
   "source": [
    "# camelot.plot(tables[0], kind='text')"
   ]
  },
  {
   "cell_type": "code",
   "execution_count": 6,
   "metadata": {},
   "outputs": [],
   "source": [
    "# camelot.plot(tables[0], kind='grid')"
   ]
  },
  {
   "cell_type": "markdown",
   "metadata": {},
   "source": [
    "# extract the balance at the beginning and end of the month"
   ]
  },
  {
   "cell_type": "code",
   "execution_count": 7,
   "metadata": {},
   "outputs": [],
   "source": [
    "trans_begin = tables_for_balance[0].df # take 3 lines\n",
    "begin_month_balance = ''.join(trans_begin.iat[1,0].split())\n"
   ]
  },
  {
   "cell_type": "markdown",
   "metadata": {},
   "source": [
    "begin_month_balance[28:]"
   ]
  },
  {
   "cell_type": "code",
   "execution_count": 8,
   "metadata": {},
   "outputs": [],
   "source": [
    "trans_end = tables_for_balance[-1].df # take 3 lines\n",
    "end_month_balance = ''.join(trans_end.iat[-2,0].split())\n"
   ]
  },
  {
   "cell_type": "markdown",
   "metadata": {},
   "source": [
    "end_month_balance[28:]"
   ]
  },
  {
   "cell_type": "markdown",
   "metadata": {},
   "source": [
    "# get the list of all monthly transactions, clean the data"
   ]
  },
  {
   "cell_type": "markdown",
   "metadata": {},
   "source": [
    "### convert each pdf page to dataframe and get the rows out of that and combine them all together\n"
   ]
  },
  {
   "cell_type": "code",
   "execution_count": 9,
   "metadata": {},
   "outputs": [],
   "source": [
    "transactions_list = []\n",
    "for table in tables_transactions:\n",
    "    trans = table.df.values.tolist()\n",
    "    for row in trans:\n",
    "        transactions_list.append(row)\n",
    "transactions = pandas.DataFrame(transactions_list)"
   ]
  },
  {
   "cell_type": "markdown",
   "metadata": {},
   "source": [
    "### drop the columns with no data\n"
   ]
  },
  {
   "cell_type": "code",
   "execution_count": 10,
   "metadata": {},
   "outputs": [],
   "source": [
    "transactions = transactions.drop(columns=[2,4,5])"
   ]
  },
  {
   "cell_type": "markdown",
   "metadata": {},
   "source": [
    "### remove whitespace in the data"
   ]
  },
  {
   "cell_type": "code",
   "execution_count": 11,
   "metadata": {},
   "outputs": [],
   "source": [
    "def remove_whitespace(x):\n",
    "    if x is not None:\n",
    "        x = x.split()\n",
    "        x = ''.join(x)\n",
    "    return x\n",
    "\n",
    "transactions = transactions.applymap(remove_whitespace)"
   ]
  },
  {
   "cell_type": "markdown",
   "metadata": {},
   "source": [
    "### rename columns"
   ]
  },
  {
   "cell_type": "code",
   "execution_count": 12,
   "metadata": {},
   "outputs": [],
   "source": [
    "transactions.columns = ['info', 'date', 'out', 'in']"
   ]
  },
  {
   "cell_type": "markdown",
   "metadata": {},
   "source": [
    "### remove non dates from date column, leave empty ones"
   ]
  },
  {
   "cell_type": "code",
   "execution_count": 13,
   "metadata": {},
   "outputs": [],
   "source": [
    "transactions = transactions[transactions.date != 'Valuta']\n",
    "transactions = transactions[transactions.date != 'zu']"
   ]
  },
  {
   "cell_type": "markdown",
   "metadata": {},
   "source": [
    "### remove None values\n",
    "they're of NoneType"
   ]
  },
  {
   "cell_type": "code",
   "execution_count": 14,
   "metadata": {},
   "outputs": [],
   "source": [
    "transactions = transactions.fillna(value=\"\")"
   ]
  },
  {
   "cell_type": "markdown",
   "metadata": {},
   "source": [
    "### reset the index"
   ]
  },
  {
   "cell_type": "code",
   "execution_count": 15,
   "metadata": {},
   "outputs": [],
   "source": [
    "transactions.index = range(len(transactions.index))"
   ]
  },
  {
   "cell_type": "markdown",
   "metadata": {},
   "source": [
    "transactions[125:135]"
   ]
  },
  {
   "cell_type": "markdown",
   "metadata": {},
   "source": [
    "# merge 3 rows of one transaction into one, discard the rest"
   ]
  },
  {
   "cell_type": "markdown",
   "metadata": {},
   "source": [
    "### one row per transaction output example"
   ]
  },
  {
   "cell_type": "markdown",
   "metadata": {},
   "source": [
    "transactions[transactions.date != ''][:2]"
   ]
  },
  {
   "cell_type": "code",
   "execution_count": 16,
   "metadata": {},
   "outputs": [],
   "source": [
    "list_merged_transactions = []\n",
    "use_this_row = 0 # we'll use 3 consecutive rows, and merge them \n",
    "current_info = ''\n",
    "current_date = ''\n",
    "current_in = ''\n",
    "current_out = ''\n",
    "new_row = []\n",
    "for index, row in transactions.iterrows():\n",
    "        if (row['date'] != ''):\n",
    "            new_row = []\n",
    "            use_this_row = 0\n",
    "            current_info = row['info']\n",
    "            current_date = row['date']\n",
    "            current_in = row['in']\n",
    "            current_out = row['out']\n",
    "        else: \n",
    "            use_this_row += 1\n",
    "            if use_this_row < 3: # unused row after row with date\n",
    "                current_info += \"\\n\" + row['info']\n",
    "            if use_this_row == 3:\n",
    "                list_merged_transactions.append([current_info, current_date, current_out, current_in])\n"
   ]
  },
  {
   "cell_type": "code",
   "execution_count": 17,
   "metadata": {},
   "outputs": [],
   "source": [
    "transactions = pandas.DataFrame(list_merged_transactions)"
   ]
  },
  {
   "cell_type": "code",
   "execution_count": null,
   "metadata": {},
   "outputs": [],
   "source": [
    "# transactions.to_csv(\"out.csv\", sep='|')"
   ]
  }
 ],
 "metadata": {
  "kernelspec": {
   "display_name": "Python 3",
   "language": "python",
   "name": "python3"
  },
  "language_info": {
   "codemirror_mode": {
    "name": "ipython",
    "version": 3
   },
   "file_extension": ".py",
   "mimetype": "text/x-python",
   "name": "python",
   "nbconvert_exporter": "python",
   "pygments_lexer": "ipython3",
   "version": "3.8.5"
  }
 },
 "nbformat": 4,
 "nbformat_minor": 4
}
