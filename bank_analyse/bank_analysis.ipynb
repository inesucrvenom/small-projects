{
 "cells": [
  {
   "cell_type": "markdown",
   "metadata": {},
   "source": [
    "# version for bunch of pdfs"
   ]
  },
  {
   "cell_type": "code",
   "execution_count": 1,
   "metadata": {},
   "outputs": [],
   "source": [
    "import camelot\n",
    "import pandas\n",
    "pandas.options.display.max_colwidth = None"
   ]
  },
  {
   "cell_type": "code",
   "execution_count": null,
   "metadata": {},
   "outputs": [],
   "source": []
  },
  {
   "cell_type": "code",
   "execution_count": null,
   "metadata": {},
   "outputs": [],
   "source": []
  },
  {
   "cell_type": "code",
   "execution_count": null,
   "metadata": {},
   "outputs": [],
   "source": []
  },
  {
   "cell_type": "code",
   "execution_count": 2,
   "metadata": {},
   "outputs": [],
   "source": [
    "input_file = 'test.pdf'\n",
    "# table_areas = top_left x, y, bottom_right x, y // 0,0 is bottom left\n",
    "# read all pages in bottom 600x600 square\n",
    "tables_transactions = camelot.read_pdf(input_file, flavor='stream', table_regions=['0,600,600,0'], pages='1-end')\n",
    "tables_for_balance = camelot.read_pdf(input_file, pages='1-end')"
   ]
  },
  {
   "cell_type": "markdown",
   "metadata": {},
   "source": [
    "trans_begin = tables_for_balance[0].df # take 3 lines\n",
    "begin_month_balance = ''.join(trans_begin.iat[1,0].split())\n",
    "begin_month_balance[28:]"
   ]
  },
  {
   "cell_type": "markdown",
   "metadata": {},
   "source": [
    "trans_end = tables_for_balance[-1].df # take 3 lines\n",
    "end_month_balance = ''.join(trans_end.iat[-2,0].split())\n",
    "end_month_balance[28:]"
   ]
  },
  {
   "cell_type": "markdown",
   "metadata": {},
   "source": []
  },
  {
   "cell_type": "code",
   "execution_count": 3,
   "metadata": {},
   "outputs": [],
   "source": [
    "def remove_whitespace(x):\n",
    "    if x is not None:\n",
    "        x = x.split()\n",
    "        x = ''.join(x)\n",
    "    return x\n",
    "\n",
    "\n",
    "def extract_transactions(tables_transactions):\n",
    "    \"\"\"\n",
    "    get the list of all monthly transactions, clean the data\n",
    "    \"\"\"\n",
    "    transactions_list = []\n",
    "    for table in tables_transactions:\n",
    "        trans = table.df.values.tolist()\n",
    "        for row in trans:\n",
    "            transactions_list.append(row)\n",
    "    transactions = pandas.DataFrame(transactions_list)\n",
    "\n",
    "    transactions = transactions.drop(columns=[2,4,5])\n",
    "\n",
    "    transactions = transactions.applymap(remove_whitespace)\n",
    "\n",
    "    transactions.columns = ['info', 'date', 'out', 'in']\n",
    "\n",
    "    transactions = transactions[transactions.date != 'Valuta']\n",
    "    transactions = transactions[transactions.date != 'zu']\n",
    "    transactions = transactions.fillna(value=\"\")\n",
    "    transactions.index = range(len(transactions.index))\n",
    "    \n",
    "    return transactions"
   ]
  },
  {
   "cell_type": "code",
   "execution_count": 4,
   "metadata": {},
   "outputs": [],
   "source": [
    "def merge_transactions_3rows(transactions):\n",
    "    \"\"\"\n",
    "    df -> list of lists\n",
    "    merges 3 rows of one transaction into one, discard the rest\n",
    "    \"\"\"\n",
    "    list_merged_transactions = []\n",
    "    \n",
    "    # month begin info\n",
    "    start_info = ''\n",
    "    month = ''\n",
    "    balance = ''\n",
    "    list_merged_transactions.append([start_info, month, '', balance])\n",
    "\n",
    "    use_this_row = 0 # we'll use 3 consecutive rows, and merge them \n",
    "    for index, row in transactions.iterrows():\n",
    "            if (row['date'] != ''):\n",
    "                use_this_row = 1\n",
    "                current_info = row['info']\n",
    "                current_date = row['date']\n",
    "                current_in = row['in']\n",
    "                current_out = row['out']\n",
    "            elif use_this_row > 0:\n",
    "                use_this_row += 1\n",
    "                if use_this_row <= 3: # unused row after row with date\n",
    "                    current_info += \". . . .\" + row['info']\n",
    "                    if use_this_row == 3:\n",
    "                        list_merged_transactions.append([current_info, current_date, current_out, current_in])\n",
    "                        use_this_row = 0\n",
    "    \n",
    "    # add month end info\n",
    "    return list_merged_transactions\n"
   ]
  },
  {
   "cell_type": "code",
   "execution_count": 5,
   "metadata": {},
   "outputs": [],
   "source": [
    "final_transactions = pandas.DataFrame(merge_transactions_3rows(extract_transactions(tables_transactions)))\n",
    "final_transactions.columns = ['info', 'date', 'out', 'in']"
   ]
  },
  {
   "cell_type": "markdown",
   "metadata": {},
   "source": [
    "final_transactions[:5]"
   ]
  }
 ],
 "metadata": {
  "kernelspec": {
   "display_name": "Python 3",
   "language": "python",
   "name": "python3"
  },
  "language_info": {
   "codemirror_mode": {
    "name": "ipython",
    "version": 3
   },
   "file_extension": ".py",
   "mimetype": "text/x-python",
   "name": "python",
   "nbconvert_exporter": "python",
   "pygments_lexer": "ipython3",
   "version": "3.8.5"
  }
 },
 "nbformat": 4,
 "nbformat_minor": 4
}
