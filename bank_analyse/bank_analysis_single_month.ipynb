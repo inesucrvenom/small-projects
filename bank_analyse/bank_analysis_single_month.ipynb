{
 "cells": [
  {
   "cell_type": "markdown",
   "metadata": {},
   "source": [
    "# version refactored into functions\n",
    "\n",
    "provides list of lists (which can be fed into dataframe)\n",
    "given by processing pdf file with table spanning several pages\n",
    "extracting only transactions data (and begin/end konto balance)"
   ]
  },
  {
   "cell_type": "code",
   "execution_count": 1,
   "metadata": {},
   "outputs": [],
   "source": [
    "import camelot\n",
    "import pandas"
   ]
  },
  {
   "cell_type": "code",
   "execution_count": 2,
   "metadata": {},
   "outputs": [],
   "source": [
    "def remove_whitespace(x):\n",
    "    \"\"\"remove all whitespaces from a given string\"\"\"\n",
    "    if x is not None:\n",
    "        x = x.split()\n",
    "        x = ''.join(x)\n",
    "    return x"
   ]
  },
  {
   "cell_type": "code",
   "execution_count": 3,
   "metadata": {},
   "outputs": [],
   "source": [
    "def extract_transactions(tables_transactions):\n",
    "    \"\"\"\n",
    "    list of processed pdf pages -> dataframe with table that contains them all\n",
    "    get the list of all monthly transactions, clean the data\n",
    "    \"\"\"\n",
    "    transactions_list = []\n",
    "    for table in tables_transactions:\n",
    "        trans = table.df.values.tolist()\n",
    "        for row in trans:\n",
    "            transactions_list.append(row)\n",
    "    transactions = pandas.DataFrame(transactions_list)\n",
    "\n",
    "    transactions = transactions.applymap(remove_whitespace)\n",
    "\n",
    "    transactions.columns = ['info', 'date', 'out', 'in']\n",
    "\n",
    "    transactions = transactions[transactions.date != 'Valuta']\n",
    "    transactions = transactions[transactions.date != 'zu']\n",
    "    transactions = transactions.fillna(value=\"\")\n",
    "    transactions.index = range(len(transactions.index))\n",
    "    \n",
    "    return transactions"
   ]
  },
  {
   "cell_type": "code",
   "execution_count": 4,
   "metadata": {},
   "outputs": [],
   "source": [
    "def merge_transactions(transactions, begin_month_data, end_month_data):\n",
    "    \"\"\"\n",
    "    dataframe of transactions -> list transactions (each is a list)\n",
    "    merges 3 rows of one transaction into one, discard the rest\n",
    "    \"\"\"\n",
    "    list_merged_transactions = []\n",
    "    \n",
    "    list_merged_transactions.append(begin_month_data)\n",
    "\n",
    "    use_this_row = 0 # we'll use 3 consecutive rows, and merge them \n",
    "    for index, row in transactions.iterrows():\n",
    "            if (row['date'] != ''):\n",
    "                use_this_row = 1\n",
    "                current_info = row['info']\n",
    "                current_date = row['date']\n",
    "                current_in = row['in']\n",
    "                current_out = row['out']\n",
    "            elif use_this_row > 0:\n",
    "                use_this_row += 1\n",
    "                if use_this_row <= 3: # unused row after row with date\n",
    "                    current_info += \". . . .\" + row['info']\n",
    "                    if use_this_row == 3:\n",
    "                        list_merged_transactions.append([current_info, current_date, current_out, current_in])\n",
    "                        use_this_row = 0\n",
    "    \n",
    "    list_merged_transactions.append(end_month_data)\n",
    " \n",
    "    return list_merged_transactions\n"
   ]
  },
  {
   "cell_type": "markdown",
   "metadata": {},
   "source": [
    "figuring out column dimensions in the console\n",
    "```\n",
    "camelot -p 4 stream -plot text test.pdf &\n",
    "camelot -p 4 stream -plot textedge test.pdf &\n",
    "camelot -p 4 stream -plot grid test.pdf &\n",
    "```\n",
    "\n",
    "check in the tool where are the limits\n",
    "\n",
    "final command\n",
    "\n",
    "```\n",
    "camelot --format html --output test.html --pages 4 stream -R 0,600,600,0 -C 290,330,460 test.pdf\n",
    "```"
   ]
  },
  {
   "cell_type": "code",
   "execution_count": 5,
   "metadata": {},
   "outputs": [],
   "source": [
    "def process_file(input_file):\n",
    "    \"\"\" for a given path to a pdf file, extract the transactional data as a list of transactions (list)\"\"\"\n",
    "\n",
    "    # table_areas = top_left x, y, bottom_right x, y // 0,0 is bottom left\n",
    "    # read all pages in bottom 600x600 square\n",
    "    tables_transactions = camelot.read_pdf(input_file, flavor='stream', pages='1-end',\n",
    "                                          table_regions=['0,600,600,0'], columns=['290,330,460'])\n",
    "    tables_for_balance = camelot.read_pdf(input_file, pages='1-end')\n",
    "\n",
    "    trans_begin = tables_for_balance[0].df # take 3 lines\n",
    "    begin_month_balance = ''.join(trans_begin.iat[1,0].split())\n",
    "    begin_month_data = [\"BEGIN \" + begin_month_balance[21:28] + \" = \" + begin_month_balance[28:], \"\", \"\", \"\"]\n",
    "\n",
    "    trans_end = tables_for_balance[-1].df # take 3 lines\n",
    "    end_month_balance = ''.join(trans_end.iat[-2,0].split())\n",
    "    end_month_data = [\"END \" + end_month_balance[21:28] + \" = \" + end_month_balance[28:], \"\", \"\", \"\"]\n",
    "    \n",
    "    return merge_transactions(extract_transactions(tables_transactions), begin_month_data, end_month_data)\n",
    "    "
   ]
  }
 ],
 "metadata": {
  "kernelspec": {
   "display_name": "Python 3",
   "language": "python",
   "name": "python3"
  },
  "language_info": {
   "codemirror_mode": {
    "name": "ipython",
    "version": 3
   },
   "file_extension": ".py",
   "mimetype": "text/x-python",
   "name": "python",
   "nbconvert_exporter": "python",
   "pygments_lexer": "ipython3",
   "version": "3.8.5"
  }
 },
 "nbformat": 4,
 "nbformat_minor": 4
}
