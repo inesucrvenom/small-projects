{
 "cells": [
  {
   "cell_type": "markdown",
   "metadata": {},
   "source": [
    "# ensure that file 'input_index.txt' is ready\n",
    "- use gvim to remove \\ from out_index_analiziraj.txt\n",
    "- remove Arhiva/ prefix\n",
    "- remove trailing spaces\n",
    "- add header 'SourceFile'"
   ]
  },
  {
   "cell_type": "code",
   "execution_count": 1,
   "metadata": {},
   "outputs": [],
   "source": [
    "import pandas as pd\n",
    "import csv\n",
    "pd.options.display.max_colwidth = None\n",
    "pd.options.display.max_rows = 5"
   ]
  },
  {
   "cell_type": "markdown",
   "metadata": {},
   "source": [
    "# read data, shorten col names, prepare unique names for joining"
   ]
  },
  {
   "cell_type": "code",
   "execution_count": 2,
   "metadata": {},
   "outputs": [],
   "source": [
    "dfa = pd.read_json('exif_arhiva.json')"
   ]
  },
  {
   "cell_type": "code",
   "execution_count": 3,
   "metadata": {},
   "outputs": [],
   "source": [
    "dfa = dfa[['SourceFile', 'FileSize', 'Orientation', 'ExifImageWidth', 'ImageWidth', 'ThumbnailLength', \n",
    "           'ThumbnailOffset', 'FileModifyDate', 'DateTimeOriginal']]"
   ]
  },
  {
   "cell_type": "code",
   "execution_count": 4,
   "metadata": {},
   "outputs": [],
   "source": [
    "dfa = dfa.rename(columns={'FileSize': 'Asize', 'Orientation': 'Aori',  \n",
    "                          'ExifImageWidth': 'AEIw', 'ImageWidth': 'AIw', 'ThumbnailLength': 'ATsize', \n",
    "                          'ThumbnailOffset': 'ATpos',\n",
    "                          'FileModifyDate': 'AmodDate', 'DateTimeOriginal': 'AdateOrig'})"
   ]
  },
  {
   "cell_type": "code",
   "execution_count": 5,
   "metadata": {},
   "outputs": [],
   "source": [
    "dfo = pd.read_json('exif_oglasi.json')"
   ]
  },
  {
   "cell_type": "code",
   "execution_count": 6,
   "metadata": {},
   "outputs": [],
   "source": [
    "dfo = dfo[['SourceFile', 'FileSize', 'Orientation', 'ExifImageWidth', 'ImageWidth', 'ThumbnailLength', \n",
    "           'ThumbnailOffset', 'FileModifyDate', 'DateTimeOriginal']]"
   ]
  },
  {
   "cell_type": "code",
   "execution_count": 7,
   "metadata": {},
   "outputs": [],
   "source": [
    "dfo = dfo.rename(columns={'FileSize': 'Osize', 'Orientation': 'Oori',  \n",
    "                          'ExifImageWidth': 'OEIw', 'ImageWidth': 'OIw', 'ThumbnailLength': 'OTsize', \n",
    "                          'ThumbnailOffset': 'OTpos',\n",
    "                          'FileModifyDate': 'OmodDate', 'DateTimeOriginal': 'OdateOrig'})"
   ]
  },
  {
   "cell_type": "code",
   "execution_count": 8,
   "metadata": {},
   "outputs": [],
   "source": [
    "df = pd.read_csv('input_index.txt', sep = '|', engine = 'python')"
   ]
  },
  {
   "cell_type": "code",
   "execution_count": 9,
   "metadata": {},
   "outputs": [
    {
     "data": {
      "text/plain": [
       "271"
      ]
     },
     "execution_count": 9,
     "metadata": {},
     "output_type": "execute_result"
    }
   ],
   "source": [
    "len(df)"
   ]
  },
  {
   "cell_type": "code",
   "execution_count": 10,
   "metadata": {},
   "outputs": [
    {
     "data": {
      "text/html": [
       "<div>\n",
       "<style scoped>\n",
       "    .dataframe tbody tr th:only-of-type {\n",
       "        vertical-align: middle;\n",
       "    }\n",
       "\n",
       "    .dataframe tbody tr th {\n",
       "        vertical-align: top;\n",
       "    }\n",
       "\n",
       "    .dataframe thead th {\n",
       "        text-align: right;\n",
       "    }\n",
       "</style>\n",
       "<table border=\"1\" class=\"dataframe\">\n",
       "  <thead>\n",
       "    <tr style=\"text-align: right;\">\n",
       "      <th></th>\n",
       "      <th>SourceFile</th>\n",
       "    </tr>\n",
       "  </thead>\n",
       "  <tbody>\n",
       "    <tr>\n",
       "      <th>0</th>\n",
       "      <td>Album GORMITI - 2012 g. I. Službeni magazin. SAND 7.jpg</td>\n",
       "    </tr>\n",
       "    <tr>\n",
       "      <th>1</th>\n",
       "      <td>Album GORMITI - 2012 g. I. Službeni magazin. SAND 8.jpg</td>\n",
       "    </tr>\n",
       "    <tr>\n",
       "      <th>...</th>\n",
       "      <td>...</td>\n",
       "    </tr>\n",
       "    <tr>\n",
       "      <th>269</th>\n",
       "      <td>Zvučni USB-SPEAKER. Za komp. Rade. SAND 5.jpg</td>\n",
       "    </tr>\n",
       "    <tr>\n",
       "      <th>270</th>\n",
       "      <td>Šalica suvenir ZAGREB. Keramika. SAND 2.jpg</td>\n",
       "    </tr>\n",
       "  </tbody>\n",
       "</table>\n",
       "<p>271 rows × 1 columns</p>\n",
       "</div>"
      ],
      "text/plain": [
       "                                                  SourceFile\n",
       "0    Album GORMITI - 2012 g. I. Službeni magazin. SAND 7.jpg\n",
       "1    Album GORMITI - 2012 g. I. Službeni magazin. SAND 8.jpg\n",
       "..                                                       ...\n",
       "269            Zvučni USB-SPEAKER. Za komp. Rade. SAND 5.jpg\n",
       "270              Šalica suvenir ZAGREB. Keramika. SAND 2.jpg\n",
       "\n",
       "[271 rows x 1 columns]"
      ]
     },
     "execution_count": 10,
     "metadata": {},
     "output_type": "execute_result"
    }
   ],
   "source": [
    "df"
   ]
  },
  {
   "cell_type": "code",
   "execution_count": 11,
   "metadata": {},
   "outputs": [
    {
     "data": {
      "text/plain": [
       "1876"
      ]
     },
     "execution_count": 11,
     "metadata": {},
     "output_type": "execute_result"
    }
   ],
   "source": [
    "len(dfa[dfa.AEIw != dfa.AIw])\n"
   ]
  },
  {
   "cell_type": "code",
   "execution_count": 12,
   "metadata": {},
   "outputs": [
    {
     "data": {
      "text/plain": [
       "2139"
      ]
     },
     "execution_count": 12,
     "metadata": {},
     "output_type": "execute_result"
    }
   ],
   "source": [
    "len(dfo[dfo.OEIw != dfo.OIw])"
   ]
  },
  {
   "cell_type": "markdown",
   "metadata": {},
   "source": [
    "# joining, reordering columns"
   ]
  },
  {
   "cell_type": "code",
   "execution_count": 13,
   "metadata": {},
   "outputs": [],
   "source": [
    "dfs = [df.set_index('SourceFile') for df in [df, dfa, dfo]]"
   ]
  },
  {
   "cell_type": "code",
   "execution_count": 14,
   "metadata": {},
   "outputs": [],
   "source": [
    "dfend = dfs[0].join(dfs[1:])"
   ]
  },
  {
   "cell_type": "code",
   "execution_count": 15,
   "metadata": {},
   "outputs": [],
   "source": [
    "dfend = dfend.reindex(['Asize', 'Osize', 'Aori', 'Oori',  \n",
    "                          'AEIw', 'OEIw', 'AIw', 'OIw', 'ATsize', 'OTsize', \n",
    "                          'ATpos', 'OTpos', 'AmodDate', 'OmodDate', 'AdateOrig', 'OdateOrig'], axis=1)"
   ]
  },
  {
   "cell_type": "code",
   "execution_count": 16,
   "metadata": {},
   "outputs": [
    {
     "data": {
      "text/html": [
       "<div>\n",
       "<style scoped>\n",
       "    .dataframe tbody tr th:only-of-type {\n",
       "        vertical-align: middle;\n",
       "    }\n",
       "\n",
       "    .dataframe tbody tr th {\n",
       "        vertical-align: top;\n",
       "    }\n",
       "\n",
       "    .dataframe thead th {\n",
       "        text-align: right;\n",
       "    }\n",
       "</style>\n",
       "<table border=\"1\" class=\"dataframe\">\n",
       "  <thead>\n",
       "    <tr style=\"text-align: right;\">\n",
       "      <th></th>\n",
       "      <th>Asize</th>\n",
       "      <th>Osize</th>\n",
       "      <th>Aori</th>\n",
       "      <th>Oori</th>\n",
       "      <th>AEIw</th>\n",
       "      <th>OEIw</th>\n",
       "      <th>AIw</th>\n",
       "      <th>OIw</th>\n",
       "      <th>ATsize</th>\n",
       "      <th>OTsize</th>\n",
       "      <th>ATpos</th>\n",
       "      <th>OTpos</th>\n",
       "      <th>AmodDate</th>\n",
       "      <th>OmodDate</th>\n",
       "      <th>AdateOrig</th>\n",
       "      <th>OdateOrig</th>\n",
       "    </tr>\n",
       "    <tr>\n",
       "      <th>SourceFile</th>\n",
       "      <th></th>\n",
       "      <th></th>\n",
       "      <th></th>\n",
       "      <th></th>\n",
       "      <th></th>\n",
       "      <th></th>\n",
       "      <th></th>\n",
       "      <th></th>\n",
       "      <th></th>\n",
       "      <th></th>\n",
       "      <th></th>\n",
       "      <th></th>\n",
       "      <th></th>\n",
       "      <th></th>\n",
       "      <th></th>\n",
       "      <th></th>\n",
       "    </tr>\n",
       "  </thead>\n",
       "  <tbody>\n",
       "    <tr>\n",
       "      <th>Album GORMITI - 2012 g. I. Službeni magazin. SAND 7.jpg</th>\n",
       "      <td>2.0 MB</td>\n",
       "      <td>2.0 MB</td>\n",
       "      <td>Horizontal (normal)</td>\n",
       "      <td>Horizontal (normal)</td>\n",
       "      <td>2816.0</td>\n",
       "      <td>2816.0</td>\n",
       "      <td>2816.0</td>\n",
       "      <td>2112.0</td>\n",
       "      <td>7261.0</td>\n",
       "      <td>5554.0</td>\n",
       "      <td>5120.0</td>\n",
       "      <td>5138.0</td>\n",
       "      <td>2020:10:01 09:53:22+02:00</td>\n",
       "      <td>2020:10:01 09:58:18+02:00</td>\n",
       "      <td>2020:10:01 08:53:22</td>\n",
       "      <td>2020:10:01 08:53:22</td>\n",
       "    </tr>\n",
       "    <tr>\n",
       "      <th>Album GORMITI - 2012 g. I. Službeni magazin. SAND 8.jpg</th>\n",
       "      <td>2.0 MB</td>\n",
       "      <td>2.0 MB</td>\n",
       "      <td>Horizontal (normal)</td>\n",
       "      <td>Horizontal (normal)</td>\n",
       "      <td>2816.0</td>\n",
       "      <td>2816.0</td>\n",
       "      <td>2816.0</td>\n",
       "      <td>2112.0</td>\n",
       "      <td>8493.0</td>\n",
       "      <td>6212.0</td>\n",
       "      <td>5120.0</td>\n",
       "      <td>5138.0</td>\n",
       "      <td>2020:10:01 09:52:32+02:00</td>\n",
       "      <td>2020:10:01 09:58:14+02:00</td>\n",
       "      <td>2020:10:01 08:52:32</td>\n",
       "      <td>2020:10:01 08:52:32</td>\n",
       "    </tr>\n",
       "    <tr>\n",
       "      <th>...</th>\n",
       "      <td>...</td>\n",
       "      <td>...</td>\n",
       "      <td>...</td>\n",
       "      <td>...</td>\n",
       "      <td>...</td>\n",
       "      <td>...</td>\n",
       "      <td>...</td>\n",
       "      <td>...</td>\n",
       "      <td>...</td>\n",
       "      <td>...</td>\n",
       "      <td>...</td>\n",
       "      <td>...</td>\n",
       "      <td>...</td>\n",
       "      <td>...</td>\n",
       "      <td>...</td>\n",
       "      <td>...</td>\n",
       "    </tr>\n",
       "    <tr>\n",
       "      <th>Zvučni USB-SPEAKER. Za komp. Rade. SAND 5.jpg</th>\n",
       "      <td>1938 kB</td>\n",
       "      <td>1936 kB</td>\n",
       "      <td>Rotate 90 CW</td>\n",
       "      <td>Horizontal (normal)</td>\n",
       "      <td>2816.0</td>\n",
       "      <td>2816.0</td>\n",
       "      <td>2816.0</td>\n",
       "      <td>2112.0</td>\n",
       "      <td>3174.0</td>\n",
       "      <td>3632.0</td>\n",
       "      <td>5120.0</td>\n",
       "      <td>3378.0</td>\n",
       "      <td>2020:09:23 16:36:06+02:00</td>\n",
       "      <td>2020:09:23 16:05:54+02:00</td>\n",
       "      <td>2020:09:23 15:36:07</td>\n",
       "      <td>2020:09:23 15:36:07</td>\n",
       "    </tr>\n",
       "    <tr>\n",
       "      <th>Šalica suvenir ZAGREB. Keramika. SAND 2.jpg</th>\n",
       "      <td>1641 kB</td>\n",
       "      <td>1641 kB</td>\n",
       "      <td>Rotate 90 CW</td>\n",
       "      <td>Horizontal (normal)</td>\n",
       "      <td>2816.0</td>\n",
       "      <td>2816.0</td>\n",
       "      <td>2816.0</td>\n",
       "      <td>2816.0</td>\n",
       "      <td>3496.0</td>\n",
       "      <td>3172.0</td>\n",
       "      <td>5120.0</td>\n",
       "      <td>5138.0</td>\n",
       "      <td>2020:07:22 15:06:34+02:00</td>\n",
       "      <td>2020:07:22 14:42:38+02:00</td>\n",
       "      <td>2020:07:22 14:06:35</td>\n",
       "      <td>2020:07:22 14:06:35</td>\n",
       "    </tr>\n",
       "  </tbody>\n",
       "</table>\n",
       "<p>271 rows × 16 columns</p>\n",
       "</div>"
      ],
      "text/plain": [
       "                                                           Asize    Osize  \\\n",
       "SourceFile                                                                  \n",
       "Album GORMITI - 2012 g. I. Službeni magazin. SAND 7.jpg   2.0 MB   2.0 MB   \n",
       "Album GORMITI - 2012 g. I. Službeni magazin. SAND 8.jpg   2.0 MB   2.0 MB   \n",
       "...                                                          ...      ...   \n",
       "Zvučni USB-SPEAKER. Za komp. Rade. SAND 5.jpg            1938 kB  1936 kB   \n",
       "Šalica suvenir ZAGREB. Keramika. SAND 2.jpg              1641 kB  1641 kB   \n",
       "\n",
       "                                                                        Aori  \\\n",
       "SourceFile                                                                     \n",
       "Album GORMITI - 2012 g. I. Službeni magazin. SAND 7.jpg  Horizontal (normal)   \n",
       "Album GORMITI - 2012 g. I. Službeni magazin. SAND 8.jpg  Horizontal (normal)   \n",
       "...                                                                      ...   \n",
       "Zvučni USB-SPEAKER. Za komp. Rade. SAND 5.jpg                   Rotate 90 CW   \n",
       "Šalica suvenir ZAGREB. Keramika. SAND 2.jpg                     Rotate 90 CW   \n",
       "\n",
       "                                                                        Oori  \\\n",
       "SourceFile                                                                     \n",
       "Album GORMITI - 2012 g. I. Službeni magazin. SAND 7.jpg  Horizontal (normal)   \n",
       "Album GORMITI - 2012 g. I. Službeni magazin. SAND 8.jpg  Horizontal (normal)   \n",
       "...                                                                      ...   \n",
       "Zvučni USB-SPEAKER. Za komp. Rade. SAND 5.jpg            Horizontal (normal)   \n",
       "Šalica suvenir ZAGREB. Keramika. SAND 2.jpg              Horizontal (normal)   \n",
       "\n",
       "                                                           AEIw    OEIw  \\\n",
       "SourceFile                                                                \n",
       "Album GORMITI - 2012 g. I. Službeni magazin. SAND 7.jpg  2816.0  2816.0   \n",
       "Album GORMITI - 2012 g. I. Službeni magazin. SAND 8.jpg  2816.0  2816.0   \n",
       "...                                                         ...     ...   \n",
       "Zvučni USB-SPEAKER. Za komp. Rade. SAND 5.jpg            2816.0  2816.0   \n",
       "Šalica suvenir ZAGREB. Keramika. SAND 2.jpg              2816.0  2816.0   \n",
       "\n",
       "                                                            AIw     OIw  \\\n",
       "SourceFile                                                                \n",
       "Album GORMITI - 2012 g. I. Službeni magazin. SAND 7.jpg  2816.0  2112.0   \n",
       "Album GORMITI - 2012 g. I. Službeni magazin. SAND 8.jpg  2816.0  2112.0   \n",
       "...                                                         ...     ...   \n",
       "Zvučni USB-SPEAKER. Za komp. Rade. SAND 5.jpg            2816.0  2112.0   \n",
       "Šalica suvenir ZAGREB. Keramika. SAND 2.jpg              2816.0  2816.0   \n",
       "\n",
       "                                                         ATsize  OTsize  \\\n",
       "SourceFile                                                                \n",
       "Album GORMITI - 2012 g. I. Službeni magazin. SAND 7.jpg  7261.0  5554.0   \n",
       "Album GORMITI - 2012 g. I. Službeni magazin. SAND 8.jpg  8493.0  6212.0   \n",
       "...                                                         ...     ...   \n",
       "Zvučni USB-SPEAKER. Za komp. Rade. SAND 5.jpg            3174.0  3632.0   \n",
       "Šalica suvenir ZAGREB. Keramika. SAND 2.jpg              3496.0  3172.0   \n",
       "\n",
       "                                                          ATpos   OTpos  \\\n",
       "SourceFile                                                                \n",
       "Album GORMITI - 2012 g. I. Službeni magazin. SAND 7.jpg  5120.0  5138.0   \n",
       "Album GORMITI - 2012 g. I. Službeni magazin. SAND 8.jpg  5120.0  5138.0   \n",
       "...                                                         ...     ...   \n",
       "Zvučni USB-SPEAKER. Za komp. Rade. SAND 5.jpg            5120.0  3378.0   \n",
       "Šalica suvenir ZAGREB. Keramika. SAND 2.jpg              5120.0  5138.0   \n",
       "\n",
       "                                                                          AmodDate  \\\n",
       "SourceFile                                                                           \n",
       "Album GORMITI - 2012 g. I. Službeni magazin. SAND 7.jpg  2020:10:01 09:53:22+02:00   \n",
       "Album GORMITI - 2012 g. I. Službeni magazin. SAND 8.jpg  2020:10:01 09:52:32+02:00   \n",
       "...                                                                            ...   \n",
       "Zvučni USB-SPEAKER. Za komp. Rade. SAND 5.jpg            2020:09:23 16:36:06+02:00   \n",
       "Šalica suvenir ZAGREB. Keramika. SAND 2.jpg              2020:07:22 15:06:34+02:00   \n",
       "\n",
       "                                                                          OmodDate  \\\n",
       "SourceFile                                                                           \n",
       "Album GORMITI - 2012 g. I. Službeni magazin. SAND 7.jpg  2020:10:01 09:58:18+02:00   \n",
       "Album GORMITI - 2012 g. I. Službeni magazin. SAND 8.jpg  2020:10:01 09:58:14+02:00   \n",
       "...                                                                            ...   \n",
       "Zvučni USB-SPEAKER. Za komp. Rade. SAND 5.jpg            2020:09:23 16:05:54+02:00   \n",
       "Šalica suvenir ZAGREB. Keramika. SAND 2.jpg              2020:07:22 14:42:38+02:00   \n",
       "\n",
       "                                                                   AdateOrig  \\\n",
       "SourceFile                                                                     \n",
       "Album GORMITI - 2012 g. I. Službeni magazin. SAND 7.jpg  2020:10:01 08:53:22   \n",
       "Album GORMITI - 2012 g. I. Službeni magazin. SAND 8.jpg  2020:10:01 08:52:32   \n",
       "...                                                                      ...   \n",
       "Zvučni USB-SPEAKER. Za komp. Rade. SAND 5.jpg            2020:09:23 15:36:07   \n",
       "Šalica suvenir ZAGREB. Keramika. SAND 2.jpg              2020:07:22 14:06:35   \n",
       "\n",
       "                                                                   OdateOrig  \n",
       "SourceFile                                                                    \n",
       "Album GORMITI - 2012 g. I. Službeni magazin. SAND 7.jpg  2020:10:01 08:53:22  \n",
       "Album GORMITI - 2012 g. I. Službeni magazin. SAND 8.jpg  2020:10:01 08:52:32  \n",
       "...                                                                      ...  \n",
       "Zvučni USB-SPEAKER. Za komp. Rade. SAND 5.jpg            2020:09:23 15:36:07  \n",
       "Šalica suvenir ZAGREB. Keramika. SAND 2.jpg              2020:07:22 14:06:35  \n",
       "\n",
       "[271 rows x 16 columns]"
      ]
     },
     "execution_count": 16,
     "metadata": {},
     "output_type": "execute_result"
    }
   ],
   "source": [
    "dfend"
   ]
  },
  {
   "cell_type": "markdown",
   "metadata": {},
   "source": [
    "# explorations\n",
    "total data 271"
   ]
  },
  {
   "cell_type": "code",
   "execution_count": 17,
   "metadata": {},
   "outputs": [
    {
     "data": {
      "text/plain": [
       "271"
      ]
     },
     "execution_count": 17,
     "metadata": {},
     "output_type": "execute_result"
    }
   ],
   "source": [
    "# total number of pictures for understanding what happened\n",
    "len(dfend)"
   ]
  },
  {
   "cell_type": "code",
   "execution_count": 18,
   "metadata": {},
   "outputs": [
    {
     "data": {
      "text/plain": [
       "271"
      ]
     },
     "execution_count": 18,
     "metadata": {},
     "output_type": "execute_result"
    }
   ],
   "source": [
    "# all pics have same exif size, in both folders, arhiva and oglasi\n",
    "len(dfend[(dfend.AEIw == dfend.OEIw)])"
   ]
  },
  {
   "cell_type": "code",
   "execution_count": 19,
   "metadata": {},
   "outputs": [
    {
     "data": {
      "text/html": [
       "<div>\n",
       "<style scoped>\n",
       "    .dataframe tbody tr th:only-of-type {\n",
       "        vertical-align: middle;\n",
       "    }\n",
       "\n",
       "    .dataframe tbody tr th {\n",
       "        vertical-align: top;\n",
       "    }\n",
       "\n",
       "    .dataframe thead th {\n",
       "        text-align: right;\n",
       "    }\n",
       "</style>\n",
       "<table border=\"1\" class=\"dataframe\">\n",
       "  <thead>\n",
       "    <tr style=\"text-align: right;\">\n",
       "      <th></th>\n",
       "      <th>Asize</th>\n",
       "      <th>Osize</th>\n",
       "      <th>Aori</th>\n",
       "      <th>Oori</th>\n",
       "      <th>AEIw</th>\n",
       "      <th>OEIw</th>\n",
       "      <th>AIw</th>\n",
       "      <th>OIw</th>\n",
       "      <th>ATsize</th>\n",
       "      <th>OTsize</th>\n",
       "      <th>ATpos</th>\n",
       "      <th>OTpos</th>\n",
       "      <th>AmodDate</th>\n",
       "      <th>OmodDate</th>\n",
       "      <th>AdateOrig</th>\n",
       "      <th>OdateOrig</th>\n",
       "    </tr>\n",
       "    <tr>\n",
       "      <th>SourceFile</th>\n",
       "      <th></th>\n",
       "      <th></th>\n",
       "      <th></th>\n",
       "      <th></th>\n",
       "      <th></th>\n",
       "      <th></th>\n",
       "      <th></th>\n",
       "      <th></th>\n",
       "      <th></th>\n",
       "      <th></th>\n",
       "      <th></th>\n",
       "      <th></th>\n",
       "      <th></th>\n",
       "      <th></th>\n",
       "      <th></th>\n",
       "      <th></th>\n",
       "    </tr>\n",
       "  </thead>\n",
       "  <tbody>\n",
       "  </tbody>\n",
       "</table>\n",
       "</div>"
      ],
      "text/plain": [
       "Empty DataFrame\n",
       "Columns: [Asize, Osize, Aori, Oori, AEIw, OEIw, AIw, OIw, ATsize, OTsize, ATpos, OTpos, AmodDate, OmodDate, AdateOrig, OdateOrig]\n",
       "Index: []"
      ]
     },
     "execution_count": 19,
     "metadata": {},
     "output_type": "execute_result"
    }
   ],
   "source": [
    "dfend[(dfend.AEIw != dfend.OEIw)]"
   ]
  },
  {
   "cell_type": "markdown",
   "metadata": {},
   "source": [
    "## who has different image width between folders, those are probably rotated, additional checks\n",
    "total data 212"
   ]
  },
  {
   "cell_type": "code",
   "execution_count": 20,
   "metadata": {},
   "outputs": [
    {
     "data": {
      "text/plain": [
       "212"
      ]
     },
     "execution_count": 20,
     "metadata": {},
     "output_type": "execute_result"
    }
   ],
   "source": [
    "len(dfend[dfend.AIw != dfend.OIw])"
   ]
  },
  {
   "cell_type": "code",
   "execution_count": 21,
   "metadata": {},
   "outputs": [
    {
     "data": {
      "text/plain": [
       "212"
      ]
     },
     "execution_count": 21,
     "metadata": {},
     "output_type": "execute_result"
    }
   ],
   "source": [
    "# pics in arhiva are in landscape\n",
    "len(dfend[(dfend.AIw > dfend.OIw)])"
   ]
  },
  {
   "cell_type": "code",
   "execution_count": 22,
   "metadata": {},
   "outputs": [
    {
     "data": {
      "text/plain": [
       "0"
      ]
     },
     "execution_count": 22,
     "metadata": {},
     "output_type": "execute_result"
    }
   ],
   "source": [
    "# pics in arhiva have same width as their exif data width\n",
    "len(dfend[(dfend.AIw != dfend.AEIw)])"
   ]
  },
  {
   "cell_type": "code",
   "execution_count": 23,
   "metadata": {},
   "outputs": [
    {
     "data": {
      "text/plain": [
       "212"
      ]
     },
     "execution_count": 23,
     "metadata": {},
     "output_type": "execute_result"
    }
   ],
   "source": [
    "# size for pics in oglasi, which are as landscape in arhiva, is smaller than their exif in oglasi \n",
    "# that means that roration of pictures happened only in folder oglasi\n",
    "len(dfend[(dfend.AIw > dfend.OIw) & (dfend.OEIw > dfend.OIw)])"
   ]
  },
  {
   "cell_type": "code",
   "execution_count": 24,
   "metadata": {},
   "outputs": [
    {
     "data": {
      "text/plain": [
       "212"
      ]
     },
     "execution_count": 24,
     "metadata": {},
     "output_type": "execute_result"
    }
   ],
   "source": [
    "# pics in folder oglasi are narrower, in oglas folder their exif data says they have 'normal' orientation\n",
    "# so in reality, they are in portrait mode it seems\n",
    "dfportrait = dfend[(dfend.AIw > dfend.OIw) & (dfend.OEIw > dfend.OIw) & (dfend.Oori == 'Horizontal (normal)')]\n",
    "len(dfportrait)"
   ]
  },
  {
   "cell_type": "code",
   "execution_count": 25,
   "metadata": {},
   "outputs": [
    {
     "data": {
      "text/plain": [
       "65"
      ]
     },
     "execution_count": 25,
     "metadata": {},
     "output_type": "execute_result"
    }
   ],
   "source": [
    "# when tag about orientation / rotation changed, thumbnail in pics in oglasi folder are smaller\n",
    "# let's assume that's expected behaviour since whole pic is narrower\n",
    "len(dfportrait[(dfportrait.Aori == 'Rotate 90 CW') & (dfportrait.ATsize > dfportrait.OTsize)])"
   ]
  },
  {
   "cell_type": "markdown",
   "metadata": {},
   "source": [
    "#### we have some pics where thumbnails are bigger\n",
    "let's check those directly\n",
    "3 komada"
   ]
  },
  {
   "cell_type": "code",
   "execution_count": 26,
   "metadata": {},
   "outputs": [
    {
     "data": {
      "text/html": [
       "<div>\n",
       "<style scoped>\n",
       "    .dataframe tbody tr th:only-of-type {\n",
       "        vertical-align: middle;\n",
       "    }\n",
       "\n",
       "    .dataframe tbody tr th {\n",
       "        vertical-align: top;\n",
       "    }\n",
       "\n",
       "    .dataframe thead th {\n",
       "        text-align: right;\n",
       "    }\n",
       "</style>\n",
       "<table border=\"1\" class=\"dataframe\">\n",
       "  <thead>\n",
       "    <tr style=\"text-align: right;\">\n",
       "      <th></th>\n",
       "      <th>Asize</th>\n",
       "      <th>Osize</th>\n",
       "      <th>Aori</th>\n",
       "      <th>Oori</th>\n",
       "      <th>AEIw</th>\n",
       "      <th>OEIw</th>\n",
       "      <th>AIw</th>\n",
       "      <th>OIw</th>\n",
       "      <th>ATsize</th>\n",
       "      <th>OTsize</th>\n",
       "      <th>ATpos</th>\n",
       "      <th>OTpos</th>\n",
       "      <th>AmodDate</th>\n",
       "      <th>OmodDate</th>\n",
       "      <th>AdateOrig</th>\n",
       "      <th>OdateOrig</th>\n",
       "    </tr>\n",
       "    <tr>\n",
       "      <th>SourceFile</th>\n",
       "      <th></th>\n",
       "      <th></th>\n",
       "      <th></th>\n",
       "      <th></th>\n",
       "      <th></th>\n",
       "      <th></th>\n",
       "      <th></th>\n",
       "      <th></th>\n",
       "      <th></th>\n",
       "      <th></th>\n",
       "      <th></th>\n",
       "      <th></th>\n",
       "      <th></th>\n",
       "      <th></th>\n",
       "      <th></th>\n",
       "      <th></th>\n",
       "    </tr>\n",
       "  </thead>\n",
       "  <tbody>\n",
       "    <tr>\n",
       "      <th>Knjiga FREUNDEENTRANEN 2006. SAND 2.jpg</th>\n",
       "      <td>1776 kB</td>\n",
       "      <td>1775 kB</td>\n",
       "      <td>Rotate 90 CW</td>\n",
       "      <td>Horizontal (normal)</td>\n",
       "      <td>2816.0</td>\n",
       "      <td>2816.0</td>\n",
       "      <td>2816.0</td>\n",
       "      <td>2112.0</td>\n",
       "      <td>3546.0</td>\n",
       "      <td>3564.0</td>\n",
       "      <td>5120.0</td>\n",
       "      <td>3378.0</td>\n",
       "      <td>2020:06:21 09:54:28+02:00</td>\n",
       "      <td>2020:06:21 12:43:30+02:00</td>\n",
       "      <td>2020:06:21 08:54:29</td>\n",
       "      <td>2020:06:21 08:54:29</td>\n",
       "    </tr>\n",
       "    <tr>\n",
       "      <th>Knjiga SLAVIMO BOGA mol i pjesm. SAND .JPG</th>\n",
       "      <td>1461 kB</td>\n",
       "      <td>1458 kB</td>\n",
       "      <td>Rotate 90 CW</td>\n",
       "      <td>Horizontal (normal)</td>\n",
       "      <td>2816.0</td>\n",
       "      <td>2816.0</td>\n",
       "      <td>2816.0</td>\n",
       "      <td>2112.0</td>\n",
       "      <td>3759.0</td>\n",
       "      <td>3764.0</td>\n",
       "      <td>5120.0</td>\n",
       "      <td>3378.0</td>\n",
       "      <td>2020:06:21 14:02:34+02:00</td>\n",
       "      <td>2020:06:21 13:09:12+02:00</td>\n",
       "      <td>2020:06:21 13:02:34</td>\n",
       "      <td>2020:06:21 13:02:34</td>\n",
       "    </tr>\n",
       "    <tr>\n",
       "      <th>Zvučni USB-SPEAKER. Za komp. Rade. SAND 5.jpg</th>\n",
       "      <td>1938 kB</td>\n",
       "      <td>1936 kB</td>\n",
       "      <td>Rotate 90 CW</td>\n",
       "      <td>Horizontal (normal)</td>\n",
       "      <td>2816.0</td>\n",
       "      <td>2816.0</td>\n",
       "      <td>2816.0</td>\n",
       "      <td>2112.0</td>\n",
       "      <td>3174.0</td>\n",
       "      <td>3632.0</td>\n",
       "      <td>5120.0</td>\n",
       "      <td>3378.0</td>\n",
       "      <td>2020:09:23 16:36:06+02:00</td>\n",
       "      <td>2020:09:23 16:05:54+02:00</td>\n",
       "      <td>2020:09:23 15:36:07</td>\n",
       "      <td>2020:09:23 15:36:07</td>\n",
       "    </tr>\n",
       "  </tbody>\n",
       "</table>\n",
       "</div>"
      ],
      "text/plain": [
       "                                                 Asize    Osize          Aori  \\\n",
       "SourceFile                                                                      \n",
       "Knjiga FREUNDEENTRANEN 2006. SAND 2.jpg        1776 kB  1775 kB  Rotate 90 CW   \n",
       "Knjiga SLAVIMO BOGA mol i pjesm. SAND .JPG     1461 kB  1458 kB  Rotate 90 CW   \n",
       "Zvučni USB-SPEAKER. Za komp. Rade. SAND 5.jpg  1938 kB  1936 kB  Rotate 90 CW   \n",
       "\n",
       "                                                              Oori    AEIw  \\\n",
       "SourceFile                                                                   \n",
       "Knjiga FREUNDEENTRANEN 2006. SAND 2.jpg        Horizontal (normal)  2816.0   \n",
       "Knjiga SLAVIMO BOGA mol i pjesm. SAND .JPG     Horizontal (normal)  2816.0   \n",
       "Zvučni USB-SPEAKER. Za komp. Rade. SAND 5.jpg  Horizontal (normal)  2816.0   \n",
       "\n",
       "                                                 OEIw     AIw     OIw  ATsize  \\\n",
       "SourceFile                                                                      \n",
       "Knjiga FREUNDEENTRANEN 2006. SAND 2.jpg        2816.0  2816.0  2112.0  3546.0   \n",
       "Knjiga SLAVIMO BOGA mol i pjesm. SAND .JPG     2816.0  2816.0  2112.0  3759.0   \n",
       "Zvučni USB-SPEAKER. Za komp. Rade. SAND 5.jpg  2816.0  2816.0  2112.0  3174.0   \n",
       "\n",
       "                                               OTsize   ATpos   OTpos  \\\n",
       "SourceFile                                                              \n",
       "Knjiga FREUNDEENTRANEN 2006. SAND 2.jpg        3564.0  5120.0  3378.0   \n",
       "Knjiga SLAVIMO BOGA mol i pjesm. SAND .JPG     3764.0  5120.0  3378.0   \n",
       "Zvučni USB-SPEAKER. Za komp. Rade. SAND 5.jpg  3632.0  5120.0  3378.0   \n",
       "\n",
       "                                                                AmodDate  \\\n",
       "SourceFile                                                                 \n",
       "Knjiga FREUNDEENTRANEN 2006. SAND 2.jpg        2020:06:21 09:54:28+02:00   \n",
       "Knjiga SLAVIMO BOGA mol i pjesm. SAND .JPG     2020:06:21 14:02:34+02:00   \n",
       "Zvučni USB-SPEAKER. Za komp. Rade. SAND 5.jpg  2020:09:23 16:36:06+02:00   \n",
       "\n",
       "                                                                OmodDate  \\\n",
       "SourceFile                                                                 \n",
       "Knjiga FREUNDEENTRANEN 2006. SAND 2.jpg        2020:06:21 12:43:30+02:00   \n",
       "Knjiga SLAVIMO BOGA mol i pjesm. SAND .JPG     2020:06:21 13:09:12+02:00   \n",
       "Zvučni USB-SPEAKER. Za komp. Rade. SAND 5.jpg  2020:09:23 16:05:54+02:00   \n",
       "\n",
       "                                                         AdateOrig  \\\n",
       "SourceFile                                                           \n",
       "Knjiga FREUNDEENTRANEN 2006. SAND 2.jpg        2020:06:21 08:54:29   \n",
       "Knjiga SLAVIMO BOGA mol i pjesm. SAND .JPG     2020:06:21 13:02:34   \n",
       "Zvučni USB-SPEAKER. Za komp. Rade. SAND 5.jpg  2020:09:23 15:36:07   \n",
       "\n",
       "                                                         OdateOrig  \n",
       "SourceFile                                                          \n",
       "Knjiga FREUNDEENTRANEN 2006. SAND 2.jpg        2020:06:21 08:54:29  \n",
       "Knjiga SLAVIMO BOGA mol i pjesm. SAND .JPG     2020:06:21 13:02:34  \n",
       "Zvučni USB-SPEAKER. Za komp. Rade. SAND 5.jpg  2020:09:23 15:36:07  "
      ]
     },
     "execution_count": 26,
     "metadata": {},
     "output_type": "execute_result"
    }
   ],
   "source": [
    "\n",
    "tmp = dfportrait[(dfportrait.Aori == 'Rotate 90 CW') & (dfportrait.ATsize <= dfportrait.OTsize)]\n",
    "tmp.to_csv(r\"out_index_portrait_change_tag_veci_thumb_provjeri_slike.txt\", columns = [], header = False, quoting = csv.QUOTE_NONE, escapechar = \"\\\\\")\n",
    "tmp"
   ]
  },
  {
   "cell_type": "code",
   "execution_count": 27,
   "metadata": {},
   "outputs": [
    {
     "data": {
      "text/plain": [
       "109"
      ]
     },
     "execution_count": 27,
     "metadata": {},
     "output_type": "execute_result"
    }
   ],
   "source": [
    "# for case when tag for orientation(rotation) at normal, but only pic size swapped\n",
    "# thumbnail is again smaller, which is again expected - since pic is narrowed, despite the tag info\n",
    "len(dfportrait[(dfportrait.Aori == 'Horizontal (normal)') & (dfportrait.ATsize > dfportrait.OTsize)])"
   ]
  },
  {
   "cell_type": "markdown",
   "metadata": {},
   "source": [
    "#### again, case where thumbnail grew bigger, manual check\n",
    "34 komada"
   ]
  },
  {
   "cell_type": "code",
   "execution_count": 28,
   "metadata": {},
   "outputs": [
    {
     "data": {
      "text/html": [
       "<div>\n",
       "<style scoped>\n",
       "    .dataframe tbody tr th:only-of-type {\n",
       "        vertical-align: middle;\n",
       "    }\n",
       "\n",
       "    .dataframe tbody tr th {\n",
       "        vertical-align: top;\n",
       "    }\n",
       "\n",
       "    .dataframe thead th {\n",
       "        text-align: right;\n",
       "    }\n",
       "</style>\n",
       "<table border=\"1\" class=\"dataframe\">\n",
       "  <thead>\n",
       "    <tr style=\"text-align: right;\">\n",
       "      <th></th>\n",
       "      <th>Asize</th>\n",
       "      <th>Osize</th>\n",
       "      <th>Aori</th>\n",
       "      <th>Oori</th>\n",
       "      <th>AEIw</th>\n",
       "      <th>OEIw</th>\n",
       "      <th>AIw</th>\n",
       "      <th>OIw</th>\n",
       "      <th>ATsize</th>\n",
       "      <th>OTsize</th>\n",
       "      <th>ATpos</th>\n",
       "      <th>OTpos</th>\n",
       "      <th>AmodDate</th>\n",
       "      <th>OmodDate</th>\n",
       "      <th>AdateOrig</th>\n",
       "      <th>OdateOrig</th>\n",
       "    </tr>\n",
       "    <tr>\n",
       "      <th>SourceFile</th>\n",
       "      <th></th>\n",
       "      <th></th>\n",
       "      <th></th>\n",
       "      <th></th>\n",
       "      <th></th>\n",
       "      <th></th>\n",
       "      <th></th>\n",
       "      <th></th>\n",
       "      <th></th>\n",
       "      <th></th>\n",
       "      <th></th>\n",
       "      <th></th>\n",
       "      <th></th>\n",
       "      <th></th>\n",
       "      <th></th>\n",
       "      <th></th>\n",
       "    </tr>\n",
       "  </thead>\n",
       "  <tbody>\n",
       "    <tr>\n",
       "      <th>Hlače jeans KA-KA. Broj-32. KING 2.jpg</th>\n",
       "      <td>3.4 MB</td>\n",
       "      <td>3.4 MB</td>\n",
       "      <td>Horizontal (normal)</td>\n",
       "      <td>Horizontal (normal)</td>\n",
       "      <td>2816.0</td>\n",
       "      <td>2816.0</td>\n",
       "      <td>2816.0</td>\n",
       "      <td>2112.0</td>\n",
       "      <td>4455.0</td>\n",
       "      <td>5452.0</td>\n",
       "      <td>5120.0</td>\n",
       "      <td>3378.0</td>\n",
       "      <td>2020:06:01 10:17:18+02:00</td>\n",
       "      <td>2020:06:01 09:27:06+02:00</td>\n",
       "      <td>2020:06:01 09:17:18</td>\n",
       "      <td>2020:06:01 09:17:18</td>\n",
       "    </tr>\n",
       "    <tr>\n",
       "      <th>Hlače jeans KA-KA. Broj-32. KING 6.jpg</th>\n",
       "      <td>3.2 MB</td>\n",
       "      <td>3.2 MB</td>\n",
       "      <td>Horizontal (normal)</td>\n",
       "      <td>Horizontal (normal)</td>\n",
       "      <td>2816.0</td>\n",
       "      <td>2816.0</td>\n",
       "      <td>2816.0</td>\n",
       "      <td>2112.0</td>\n",
       "      <td>4365.0</td>\n",
       "      <td>5203.0</td>\n",
       "      <td>5120.0</td>\n",
       "      <td>3378.0</td>\n",
       "      <td>2020:06:01 10:14:20+02:00</td>\n",
       "      <td>2020:06:01 09:27:20+02:00</td>\n",
       "      <td>2020:06:01 09:14:20</td>\n",
       "      <td>2020:06:01 09:14:20</td>\n",
       "    </tr>\n",
       "    <tr>\n",
       "      <th>...</th>\n",
       "      <td>...</td>\n",
       "      <td>...</td>\n",
       "      <td>...</td>\n",
       "      <td>...</td>\n",
       "      <td>...</td>\n",
       "      <td>...</td>\n",
       "      <td>...</td>\n",
       "      <td>...</td>\n",
       "      <td>...</td>\n",
       "      <td>...</td>\n",
       "      <td>...</td>\n",
       "      <td>...</td>\n",
       "      <td>...</td>\n",
       "      <td>...</td>\n",
       "      <td>...</td>\n",
       "      <td>...</td>\n",
       "    </tr>\n",
       "    <tr>\n",
       "      <th>Vaza CVIJETOVI - ručni rad. V-30 cm. SAND 4.jpg</th>\n",
       "      <td>2.4 MB</td>\n",
       "      <td>2.4 MB</td>\n",
       "      <td>Horizontal (normal)</td>\n",
       "      <td>Horizontal (normal)</td>\n",
       "      <td>2816.0</td>\n",
       "      <td>2816.0</td>\n",
       "      <td>2816.0</td>\n",
       "      <td>2112.0</td>\n",
       "      <td>4244.0</td>\n",
       "      <td>4472.0</td>\n",
       "      <td>5120.0</td>\n",
       "      <td>3378.0</td>\n",
       "      <td>2020:07:16 13:34:42+02:00</td>\n",
       "      <td>2020:07:16 14:17:52+02:00</td>\n",
       "      <td>2020:07:16 12:34:43</td>\n",
       "      <td>2020:07:16 12:34:43</td>\n",
       "    </tr>\n",
       "    <tr>\n",
       "      <th>Zastavica sportska FK  JUGOSLAVIJA. 39,5 x 27,5 cm SAND 3.jpg</th>\n",
       "      <td>2.2 MB</td>\n",
       "      <td>2.2 MB</td>\n",
       "      <td>Horizontal (normal)</td>\n",
       "      <td>Horizontal (normal)</td>\n",
       "      <td>2816.0</td>\n",
       "      <td>2816.0</td>\n",
       "      <td>2816.0</td>\n",
       "      <td>2112.0</td>\n",
       "      <td>2944.0</td>\n",
       "      <td>3319.0</td>\n",
       "      <td>5120.0</td>\n",
       "      <td>3378.0</td>\n",
       "      <td>2020:09:19 09:44:10+02:00</td>\n",
       "      <td>2020:09:19 09:11:00+02:00</td>\n",
       "      <td>2020:09:19 08:44:10</td>\n",
       "      <td>2020:09:19 08:44:10</td>\n",
       "    </tr>\n",
       "  </tbody>\n",
       "</table>\n",
       "<p>34 rows × 16 columns</p>\n",
       "</div>"
      ],
      "text/plain": [
       "                                                                Asize   Osize  \\\n",
       "SourceFile                                                                      \n",
       "Hlače jeans KA-KA. Broj-32. KING 2.jpg                         3.4 MB  3.4 MB   \n",
       "Hlače jeans KA-KA. Broj-32. KING 6.jpg                         3.2 MB  3.2 MB   \n",
       "...                                                               ...     ...   \n",
       "Vaza CVIJETOVI - ručni rad. V-30 cm. SAND 4.jpg                2.4 MB  2.4 MB   \n",
       "Zastavica sportska FK  JUGOSLAVIJA. 39,5 x 27,5 cm SAND 3.jpg  2.2 MB  2.2 MB   \n",
       "\n",
       "                                                                              Aori  \\\n",
       "SourceFile                                                                           \n",
       "Hlače jeans KA-KA. Broj-32. KING 2.jpg                         Horizontal (normal)   \n",
       "Hlače jeans KA-KA. Broj-32. KING 6.jpg                         Horizontal (normal)   \n",
       "...                                                                            ...   \n",
       "Vaza CVIJETOVI - ručni rad. V-30 cm. SAND 4.jpg                Horizontal (normal)   \n",
       "Zastavica sportska FK  JUGOSLAVIJA. 39,5 x 27,5 cm SAND 3.jpg  Horizontal (normal)   \n",
       "\n",
       "                                                                              Oori  \\\n",
       "SourceFile                                                                           \n",
       "Hlače jeans KA-KA. Broj-32. KING 2.jpg                         Horizontal (normal)   \n",
       "Hlače jeans KA-KA. Broj-32. KING 6.jpg                         Horizontal (normal)   \n",
       "...                                                                            ...   \n",
       "Vaza CVIJETOVI - ručni rad. V-30 cm. SAND 4.jpg                Horizontal (normal)   \n",
       "Zastavica sportska FK  JUGOSLAVIJA. 39,5 x 27,5 cm SAND 3.jpg  Horizontal (normal)   \n",
       "\n",
       "                                                                 AEIw    OEIw  \\\n",
       "SourceFile                                                                      \n",
       "Hlače jeans KA-KA. Broj-32. KING 2.jpg                         2816.0  2816.0   \n",
       "Hlače jeans KA-KA. Broj-32. KING 6.jpg                         2816.0  2816.0   \n",
       "...                                                               ...     ...   \n",
       "Vaza CVIJETOVI - ručni rad. V-30 cm. SAND 4.jpg                2816.0  2816.0   \n",
       "Zastavica sportska FK  JUGOSLAVIJA. 39,5 x 27,5 cm SAND 3.jpg  2816.0  2816.0   \n",
       "\n",
       "                                                                  AIw     OIw  \\\n",
       "SourceFile                                                                      \n",
       "Hlače jeans KA-KA. Broj-32. KING 2.jpg                         2816.0  2112.0   \n",
       "Hlače jeans KA-KA. Broj-32. KING 6.jpg                         2816.0  2112.0   \n",
       "...                                                               ...     ...   \n",
       "Vaza CVIJETOVI - ručni rad. V-30 cm. SAND 4.jpg                2816.0  2112.0   \n",
       "Zastavica sportska FK  JUGOSLAVIJA. 39,5 x 27,5 cm SAND 3.jpg  2816.0  2112.0   \n",
       "\n",
       "                                                               ATsize  OTsize  \\\n",
       "SourceFile                                                                      \n",
       "Hlače jeans KA-KA. Broj-32. KING 2.jpg                         4455.0  5452.0   \n",
       "Hlače jeans KA-KA. Broj-32. KING 6.jpg                         4365.0  5203.0   \n",
       "...                                                               ...     ...   \n",
       "Vaza CVIJETOVI - ručni rad. V-30 cm. SAND 4.jpg                4244.0  4472.0   \n",
       "Zastavica sportska FK  JUGOSLAVIJA. 39,5 x 27,5 cm SAND 3.jpg  2944.0  3319.0   \n",
       "\n",
       "                                                                ATpos   OTpos  \\\n",
       "SourceFile                                                                      \n",
       "Hlače jeans KA-KA. Broj-32. KING 2.jpg                         5120.0  3378.0   \n",
       "Hlače jeans KA-KA. Broj-32. KING 6.jpg                         5120.0  3378.0   \n",
       "...                                                               ...     ...   \n",
       "Vaza CVIJETOVI - ručni rad. V-30 cm. SAND 4.jpg                5120.0  3378.0   \n",
       "Zastavica sportska FK  JUGOSLAVIJA. 39,5 x 27,5 cm SAND 3.jpg  5120.0  3378.0   \n",
       "\n",
       "                                                                                AmodDate  \\\n",
       "SourceFile                                                                                 \n",
       "Hlače jeans KA-KA. Broj-32. KING 2.jpg                         2020:06:01 10:17:18+02:00   \n",
       "Hlače jeans KA-KA. Broj-32. KING 6.jpg                         2020:06:01 10:14:20+02:00   \n",
       "...                                                                                  ...   \n",
       "Vaza CVIJETOVI - ručni rad. V-30 cm. SAND 4.jpg                2020:07:16 13:34:42+02:00   \n",
       "Zastavica sportska FK  JUGOSLAVIJA. 39,5 x 27,5 cm SAND 3.jpg  2020:09:19 09:44:10+02:00   \n",
       "\n",
       "                                                                                OmodDate  \\\n",
       "SourceFile                                                                                 \n",
       "Hlače jeans KA-KA. Broj-32. KING 2.jpg                         2020:06:01 09:27:06+02:00   \n",
       "Hlače jeans KA-KA. Broj-32. KING 6.jpg                         2020:06:01 09:27:20+02:00   \n",
       "...                                                                                  ...   \n",
       "Vaza CVIJETOVI - ručni rad. V-30 cm. SAND 4.jpg                2020:07:16 14:17:52+02:00   \n",
       "Zastavica sportska FK  JUGOSLAVIJA. 39,5 x 27,5 cm SAND 3.jpg  2020:09:19 09:11:00+02:00   \n",
       "\n",
       "                                                                         AdateOrig  \\\n",
       "SourceFile                                                                           \n",
       "Hlače jeans KA-KA. Broj-32. KING 2.jpg                         2020:06:01 09:17:18   \n",
       "Hlače jeans KA-KA. Broj-32. KING 6.jpg                         2020:06:01 09:14:20   \n",
       "...                                                                            ...   \n",
       "Vaza CVIJETOVI - ručni rad. V-30 cm. SAND 4.jpg                2020:07:16 12:34:43   \n",
       "Zastavica sportska FK  JUGOSLAVIJA. 39,5 x 27,5 cm SAND 3.jpg  2020:09:19 08:44:10   \n",
       "\n",
       "                                                                         OdateOrig  \n",
       "SourceFile                                                                          \n",
       "Hlače jeans KA-KA. Broj-32. KING 2.jpg                         2020:06:01 09:17:18  \n",
       "Hlače jeans KA-KA. Broj-32. KING 6.jpg                         2020:06:01 09:14:20  \n",
       "...                                                                            ...  \n",
       "Vaza CVIJETOVI - ručni rad. V-30 cm. SAND 4.jpg                2020:07:16 12:34:43  \n",
       "Zastavica sportska FK  JUGOSLAVIJA. 39,5 x 27,5 cm SAND 3.jpg  2020:09:19 08:44:10  \n",
       "\n",
       "[34 rows x 16 columns]"
      ]
     },
     "execution_count": 28,
     "metadata": {},
     "output_type": "execute_result"
    }
   ],
   "source": [
    "\n",
    "tmp = dfportrait[(dfportrait.Aori == 'Horizontal (normal)') & (dfportrait.ATsize <= dfportrait.OTsize)]\n",
    "tmp.to_csv(r\"out_index_portrait_same_tag_veci_thumb_provjeri_slike.txt\", columns = [], header = False, quoting = csv.QUOTE_NONE, escapechar = \"\\\\\")\n",
    "tmp"
   ]
  },
  {
   "cell_type": "markdown",
   "metadata": {},
   "source": [
    "## those with same image size, find what is the difference here\n",
    "total 59"
   ]
  },
  {
   "cell_type": "code",
   "execution_count": 29,
   "metadata": {},
   "outputs": [
    {
     "data": {
      "text/plain": [
       "59"
      ]
     },
     "execution_count": 29,
     "metadata": {},
     "output_type": "execute_result"
    }
   ],
   "source": [
    "\n",
    "len(dfend[dfend.AIw == dfend.OIw])"
   ]
  },
  {
   "cell_type": "markdown",
   "metadata": {},
   "source": [
    "it's not clear yet what happened with this 59\n",
    "those have the same sizes, so the same orientation, and same filenames, while still having different binary files\n",
    "judging by some example from them ```kecelja.*ENA.*4``` it looks like only thumbnail's size changed, and therefore whole binary\n",
    "\n",
    "edit later after manual check up - yes, confirmed"
   ]
  },
  {
   "cell_type": "code",
   "execution_count": 31,
   "metadata": {},
   "outputs": [
    {
     "data": {
      "text/html": [
       "<div>\n",
       "<style scoped>\n",
       "    .dataframe tbody tr th:only-of-type {\n",
       "        vertical-align: middle;\n",
       "    }\n",
       "\n",
       "    .dataframe tbody tr th {\n",
       "        vertical-align: top;\n",
       "    }\n",
       "\n",
       "    .dataframe thead th {\n",
       "        text-align: right;\n",
       "    }\n",
       "</style>\n",
       "<table border=\"1\" class=\"dataframe\">\n",
       "  <thead>\n",
       "    <tr style=\"text-align: right;\">\n",
       "      <th></th>\n",
       "      <th>Asize</th>\n",
       "      <th>Osize</th>\n",
       "      <th>Aori</th>\n",
       "      <th>Oori</th>\n",
       "      <th>AEIw</th>\n",
       "      <th>OEIw</th>\n",
       "      <th>AIw</th>\n",
       "      <th>OIw</th>\n",
       "      <th>ATsize</th>\n",
       "      <th>OTsize</th>\n",
       "      <th>ATpos</th>\n",
       "      <th>OTpos</th>\n",
       "      <th>AmodDate</th>\n",
       "      <th>OmodDate</th>\n",
       "      <th>AdateOrig</th>\n",
       "      <th>OdateOrig</th>\n",
       "    </tr>\n",
       "    <tr>\n",
       "      <th>SourceFile</th>\n",
       "      <th></th>\n",
       "      <th></th>\n",
       "      <th></th>\n",
       "      <th></th>\n",
       "      <th></th>\n",
       "      <th></th>\n",
       "      <th></th>\n",
       "      <th></th>\n",
       "      <th></th>\n",
       "      <th></th>\n",
       "      <th></th>\n",
       "      <th></th>\n",
       "      <th></th>\n",
       "      <th></th>\n",
       "      <th></th>\n",
       "      <th></th>\n",
       "    </tr>\n",
       "  </thead>\n",
       "  <tbody>\n",
       "    <tr>\n",
       "      <th>Pehar PIJ IVE. KIL - keramika. Krem boje. SAND 3.jpg</th>\n",
       "      <td>910 kB</td>\n",
       "      <td>907 kB</td>\n",
       "      <td>Horizontal (normal)</td>\n",
       "      <td>Horizontal (normal)</td>\n",
       "      <td>2816.0</td>\n",
       "      <td>2816.0</td>\n",
       "      <td>2816.0</td>\n",
       "      <td>2816.0</td>\n",
       "      <td>2998.0</td>\n",
       "      <td>2269.0</td>\n",
       "      <td>5120.0</td>\n",
       "      <td>3378.0</td>\n",
       "      <td>2020:06:30 10:24:24+02:00</td>\n",
       "      <td>2020:06:30 10:53:10+02:00</td>\n",
       "      <td>2020:06:30 09:24:25</td>\n",
       "      <td>2020:06:30 09:24:25</td>\n",
       "    </tr>\n",
       "  </tbody>\n",
       "</table>\n",
       "</div>"
      ],
      "text/plain": [
       "                                                       Asize   Osize  \\\n",
       "SourceFile                                                             \n",
       "Pehar PIJ IVE. KIL - keramika. Krem boje. SAND 3.jpg  910 kB  907 kB   \n",
       "\n",
       "                                                                     Aori  \\\n",
       "SourceFile                                                                  \n",
       "Pehar PIJ IVE. KIL - keramika. Krem boje. SAND 3.jpg  Horizontal (normal)   \n",
       "\n",
       "                                                                     Oori  \\\n",
       "SourceFile                                                                  \n",
       "Pehar PIJ IVE. KIL - keramika. Krem boje. SAND 3.jpg  Horizontal (normal)   \n",
       "\n",
       "                                                        AEIw    OEIw     AIw  \\\n",
       "SourceFile                                                                     \n",
       "Pehar PIJ IVE. KIL - keramika. Krem boje. SAND 3.jpg  2816.0  2816.0  2816.0   \n",
       "\n",
       "                                                         OIw  ATsize  OTsize  \\\n",
       "SourceFile                                                                     \n",
       "Pehar PIJ IVE. KIL - keramika. Krem boje. SAND 3.jpg  2816.0  2998.0  2269.0   \n",
       "\n",
       "                                                       ATpos   OTpos  \\\n",
       "SourceFile                                                             \n",
       "Pehar PIJ IVE. KIL - keramika. Krem boje. SAND 3.jpg  5120.0  3378.0   \n",
       "\n",
       "                                                                       AmodDate  \\\n",
       "SourceFile                                                                        \n",
       "Pehar PIJ IVE. KIL - keramika. Krem boje. SAND 3.jpg  2020:06:30 10:24:24+02:00   \n",
       "\n",
       "                                                                       OmodDate  \\\n",
       "SourceFile                                                                        \n",
       "Pehar PIJ IVE. KIL - keramika. Krem boje. SAND 3.jpg  2020:06:30 10:53:10+02:00   \n",
       "\n",
       "                                                                AdateOrig  \\\n",
       "SourceFile                                                                  \n",
       "Pehar PIJ IVE. KIL - keramika. Krem boje. SAND 3.jpg  2020:06:30 09:24:25   \n",
       "\n",
       "                                                                OdateOrig  \n",
       "SourceFile                                                                 \n",
       "Pehar PIJ IVE. KIL - keramika. Krem boje. SAND 3.jpg  2020:06:30 09:24:25  "
      ]
     },
     "execution_count": 31,
     "metadata": {},
     "output_type": "execute_result"
    }
   ],
   "source": [
    "# there's one which has the same orientation in both folders, with modified date in oglas later than in arhiva\n",
    "# worth checking\n",
    "tmp = dfend[(dfend.AIw == dfend.OIw) & (dfend.Aori == dfend.Oori)]\n",
    "tmp.to_csv(r\"out_index_landscape_same_tag_provjeri_slike.txt\", columns = [], header = False, quoting = csv.QUOTE_NONE, escapechar = \"\\\\\")\n",
    "tmp"
   ]
  },
  {
   "cell_type": "code",
   "execution_count": 32,
   "metadata": {},
   "outputs": [
    {
     "data": {
      "text/plain": [
       "7"
      ]
     },
     "execution_count": 32,
     "metadata": {},
     "output_type": "execute_result"
    }
   ],
   "source": [
    "# the rest have the same size, but show different exif data for orientation and possibly smaller thumbnail\n",
    "# except this 7 which have bigger thumbnail in oglasi folder\n",
    "tmp = dfend[(dfend.AIw == dfend.OIw) & (dfend.Aori != dfend.Oori) & (dfend.ATsize < dfend.OTsize)]\n",
    "len(tmp)"
   ]
  },
  {
   "cell_type": "code",
   "execution_count": 33,
   "metadata": {},
   "outputs": [
    {
     "name": "stderr",
     "output_type": "stream",
     "text": [
      "<ipython-input-33-dba54396ef88>:3: SettingWithCopyWarning: \n",
      "A value is trying to be set on a copy of a slice from a DataFrame.\n",
      "Try using .loc[row_indexer,col_indexer] = value instead\n",
      "\n",
      "See the caveats in the documentation: https://pandas.pydata.org/pandas-docs/stable/user_guide/indexing.html#returning-a-view-versus-a-copy\n",
      "  tmp['result'] = tmp['OTsize'] - tmp['ATsize']\n"
     ]
    }
   ],
   "source": [
    "# this will add a column to a tmp dataframe, which is copy, which is what I wanted, \n",
    "# I don't want to change the original just for quick example\n",
    "# shows the difference between thumbnails\n",
    "tmp['result'] = tmp['OTsize'] - tmp['ATsize']"
   ]
  },
  {
   "cell_type": "code",
   "execution_count": 2,
   "metadata": {},
   "outputs": [],
   "source": [
    "# in general, negligable differences between thumbnail sizes, except for one picture which is rotated \n",
    "# in CCW direction, and all have mod date in arhiva folder later than in the oglasi folder"
   ]
  },
  {
   "cell_type": "code",
   "execution_count": 35,
   "metadata": {
    "scrolled": true
   },
   "outputs": [
    {
     "data": {
      "text/html": [
       "<div>\n",
       "<style scoped>\n",
       "    .dataframe tbody tr th:only-of-type {\n",
       "        vertical-align: middle;\n",
       "    }\n",
       "\n",
       "    .dataframe tbody tr th {\n",
       "        vertical-align: top;\n",
       "    }\n",
       "\n",
       "    .dataframe thead th {\n",
       "        text-align: right;\n",
       "    }\n",
       "</style>\n",
       "<table border=\"1\" class=\"dataframe\">\n",
       "  <thead>\n",
       "    <tr style=\"text-align: right;\">\n",
       "      <th></th>\n",
       "      <th>Asize</th>\n",
       "      <th>Osize</th>\n",
       "      <th>Aori</th>\n",
       "      <th>Oori</th>\n",
       "      <th>AEIw</th>\n",
       "      <th>OEIw</th>\n",
       "      <th>AIw</th>\n",
       "      <th>OIw</th>\n",
       "      <th>ATsize</th>\n",
       "      <th>OTsize</th>\n",
       "      <th>ATpos</th>\n",
       "      <th>OTpos</th>\n",
       "      <th>AmodDate</th>\n",
       "      <th>OmodDate</th>\n",
       "      <th>AdateOrig</th>\n",
       "      <th>OdateOrig</th>\n",
       "      <th>result</th>\n",
       "    </tr>\n",
       "    <tr>\n",
       "      <th>SourceFile</th>\n",
       "      <th></th>\n",
       "      <th></th>\n",
       "      <th></th>\n",
       "      <th></th>\n",
       "      <th></th>\n",
       "      <th></th>\n",
       "      <th></th>\n",
       "      <th></th>\n",
       "      <th></th>\n",
       "      <th></th>\n",
       "      <th></th>\n",
       "      <th></th>\n",
       "      <th></th>\n",
       "      <th></th>\n",
       "      <th></th>\n",
       "      <th></th>\n",
       "      <th></th>\n",
       "    </tr>\n",
       "  </thead>\n",
       "  <tbody>\n",
       "    <tr>\n",
       "      <th>Karta S - H - S. Izdanje Zagreb. KING 1.jpg</th>\n",
       "      <td>2.4 MB</td>\n",
       "      <td>2.4 MB</td>\n",
       "      <td>Rotate 90 CW</td>\n",
       "      <td>Horizontal (normal)</td>\n",
       "      <td>2816.0</td>\n",
       "      <td>2816.0</td>\n",
       "      <td>2816.0</td>\n",
       "      <td>2816.0</td>\n",
       "      <td>4620.0</td>\n",
       "      <td>4658.0</td>\n",
       "      <td>5120.0</td>\n",
       "      <td>3378.0</td>\n",
       "      <td>2020:05:31 10:23:30+02:00</td>\n",
       "      <td>2020:05:31 09:43:08+02:00</td>\n",
       "      <td>2020:05:31 09:23:31</td>\n",
       "      <td>2020:05:31 09:23:31</td>\n",
       "      <td>38.0</td>\n",
       "    </tr>\n",
       "    <tr>\n",
       "      <th>Karta S - H - S. Izdanje Zagreb. KING 2.jpg</th>\n",
       "      <td>2.6 MB</td>\n",
       "      <td>2.6 MB</td>\n",
       "      <td>Rotate 90 CW</td>\n",
       "      <td>Horizontal (normal)</td>\n",
       "      <td>2816.0</td>\n",
       "      <td>2816.0</td>\n",
       "      <td>2816.0</td>\n",
       "      <td>2816.0</td>\n",
       "      <td>5005.0</td>\n",
       "      <td>5077.0</td>\n",
       "      <td>5120.0</td>\n",
       "      <td>3378.0</td>\n",
       "      <td>2020:05:31 10:22:50+02:00</td>\n",
       "      <td>2020:05:31 09:43:02+02:00</td>\n",
       "      <td>2020:05:31 09:22:50</td>\n",
       "      <td>2020:05:31 09:22:50</td>\n",
       "      <td>72.0</td>\n",
       "    </tr>\n",
       "    <tr>\n",
       "      <th>...</th>\n",
       "      <td>...</td>\n",
       "      <td>...</td>\n",
       "      <td>...</td>\n",
       "      <td>...</td>\n",
       "      <td>...</td>\n",
       "      <td>...</td>\n",
       "      <td>...</td>\n",
       "      <td>...</td>\n",
       "      <td>...</td>\n",
       "      <td>...</td>\n",
       "      <td>...</td>\n",
       "      <td>...</td>\n",
       "      <td>...</td>\n",
       "      <td>...</td>\n",
       "      <td>...</td>\n",
       "      <td>...</td>\n",
       "      <td>...</td>\n",
       "    </tr>\n",
       "    <tr>\n",
       "      <th>Knjiga ZATVORSKA I SIBIRSKA SJEĆANJA 1926-1957 SAND 1.jpg</th>\n",
       "      <td>1845 kB</td>\n",
       "      <td>1843 kB</td>\n",
       "      <td>Rotate 90 CW</td>\n",
       "      <td>Horizontal (normal)</td>\n",
       "      <td>2816.0</td>\n",
       "      <td>2816.0</td>\n",
       "      <td>2816.0</td>\n",
       "      <td>2816.0</td>\n",
       "      <td>4208.0</td>\n",
       "      <td>4220.0</td>\n",
       "      <td>5120.0</td>\n",
       "      <td>3378.0</td>\n",
       "      <td>2020:07:04 10:54:56+02:00</td>\n",
       "      <td>2020:07:04 10:24:24+02:00</td>\n",
       "      <td>2020:07:04 09:54:56</td>\n",
       "      <td>2020:07:04 09:54:56</td>\n",
       "      <td>12.0</td>\n",
       "    </tr>\n",
       "    <tr>\n",
       "      <th>Knjiga ZEC NA MJESECU. H. Šalković. 2007. SAND 2.jpg</th>\n",
       "      <td>1405 kB</td>\n",
       "      <td>1404 kB</td>\n",
       "      <td>Rotate 270 CW</td>\n",
       "      <td>Horizontal (normal)</td>\n",
       "      <td>2816.0</td>\n",
       "      <td>2816.0</td>\n",
       "      <td>2816.0</td>\n",
       "      <td>2816.0</td>\n",
       "      <td>2545.0</td>\n",
       "      <td>2655.0</td>\n",
       "      <td>5120.0</td>\n",
       "      <td>3378.0</td>\n",
       "      <td>2020:09:05 10:01:20+02:00</td>\n",
       "      <td>2020:09:05 09:50:04+02:00</td>\n",
       "      <td>2020:09:05 09:01:20</td>\n",
       "      <td>2020:09:05 09:01:20</td>\n",
       "      <td>110.0</td>\n",
       "    </tr>\n",
       "  </tbody>\n",
       "</table>\n",
       "<p>7 rows × 17 columns</p>\n",
       "</div>"
      ],
      "text/plain": [
       "                                                             Asize    Osize  \\\n",
       "SourceFile                                                                    \n",
       "Karta S - H - S. Izdanje Zagreb. KING 1.jpg                 2.4 MB   2.4 MB   \n",
       "Karta S - H - S. Izdanje Zagreb. KING 2.jpg                 2.6 MB   2.6 MB   \n",
       "...                                                            ...      ...   \n",
       "Knjiga ZATVORSKA I SIBIRSKA SJEĆANJA 1926-1957 SAND 1.jpg  1845 kB  1843 kB   \n",
       "Knjiga ZEC NA MJESECU. H. Šalković. 2007. SAND 2.jpg       1405 kB  1404 kB   \n",
       "\n",
       "                                                                    Aori  \\\n",
       "SourceFile                                                                 \n",
       "Karta S - H - S. Izdanje Zagreb. KING 1.jpg                 Rotate 90 CW   \n",
       "Karta S - H - S. Izdanje Zagreb. KING 2.jpg                 Rotate 90 CW   \n",
       "...                                                                  ...   \n",
       "Knjiga ZATVORSKA I SIBIRSKA SJEĆANJA 1926-1957 SAND 1.jpg   Rotate 90 CW   \n",
       "Knjiga ZEC NA MJESECU. H. Šalković. 2007. SAND 2.jpg       Rotate 270 CW   \n",
       "\n",
       "                                                                          Oori  \\\n",
       "SourceFile                                                                       \n",
       "Karta S - H - S. Izdanje Zagreb. KING 1.jpg                Horizontal (normal)   \n",
       "Karta S - H - S. Izdanje Zagreb. KING 2.jpg                Horizontal (normal)   \n",
       "...                                                                        ...   \n",
       "Knjiga ZATVORSKA I SIBIRSKA SJEĆANJA 1926-1957 SAND 1.jpg  Horizontal (normal)   \n",
       "Knjiga ZEC NA MJESECU. H. Šalković. 2007. SAND 2.jpg       Horizontal (normal)   \n",
       "\n",
       "                                                             AEIw    OEIw  \\\n",
       "SourceFile                                                                  \n",
       "Karta S - H - S. Izdanje Zagreb. KING 1.jpg                2816.0  2816.0   \n",
       "Karta S - H - S. Izdanje Zagreb. KING 2.jpg                2816.0  2816.0   \n",
       "...                                                           ...     ...   \n",
       "Knjiga ZATVORSKA I SIBIRSKA SJEĆANJA 1926-1957 SAND 1.jpg  2816.0  2816.0   \n",
       "Knjiga ZEC NA MJESECU. H. Šalković. 2007. SAND 2.jpg       2816.0  2816.0   \n",
       "\n",
       "                                                              AIw     OIw  \\\n",
       "SourceFile                                                                  \n",
       "Karta S - H - S. Izdanje Zagreb. KING 1.jpg                2816.0  2816.0   \n",
       "Karta S - H - S. Izdanje Zagreb. KING 2.jpg                2816.0  2816.0   \n",
       "...                                                           ...     ...   \n",
       "Knjiga ZATVORSKA I SIBIRSKA SJEĆANJA 1926-1957 SAND 1.jpg  2816.0  2816.0   \n",
       "Knjiga ZEC NA MJESECU. H. Šalković. 2007. SAND 2.jpg       2816.0  2816.0   \n",
       "\n",
       "                                                           ATsize  OTsize  \\\n",
       "SourceFile                                                                  \n",
       "Karta S - H - S. Izdanje Zagreb. KING 1.jpg                4620.0  4658.0   \n",
       "Karta S - H - S. Izdanje Zagreb. KING 2.jpg                5005.0  5077.0   \n",
       "...                                                           ...     ...   \n",
       "Knjiga ZATVORSKA I SIBIRSKA SJEĆANJA 1926-1957 SAND 1.jpg  4208.0  4220.0   \n",
       "Knjiga ZEC NA MJESECU. H. Šalković. 2007. SAND 2.jpg       2545.0  2655.0   \n",
       "\n",
       "                                                            ATpos   OTpos  \\\n",
       "SourceFile                                                                  \n",
       "Karta S - H - S. Izdanje Zagreb. KING 1.jpg                5120.0  3378.0   \n",
       "Karta S - H - S. Izdanje Zagreb. KING 2.jpg                5120.0  3378.0   \n",
       "...                                                           ...     ...   \n",
       "Knjiga ZATVORSKA I SIBIRSKA SJEĆANJA 1926-1957 SAND 1.jpg  5120.0  3378.0   \n",
       "Knjiga ZEC NA MJESECU. H. Šalković. 2007. SAND 2.jpg       5120.0  3378.0   \n",
       "\n",
       "                                                                            AmodDate  \\\n",
       "SourceFile                                                                             \n",
       "Karta S - H - S. Izdanje Zagreb. KING 1.jpg                2020:05:31 10:23:30+02:00   \n",
       "Karta S - H - S. Izdanje Zagreb. KING 2.jpg                2020:05:31 10:22:50+02:00   \n",
       "...                                                                              ...   \n",
       "Knjiga ZATVORSKA I SIBIRSKA SJEĆANJA 1926-1957 SAND 1.jpg  2020:07:04 10:54:56+02:00   \n",
       "Knjiga ZEC NA MJESECU. H. Šalković. 2007. SAND 2.jpg       2020:09:05 10:01:20+02:00   \n",
       "\n",
       "                                                                            OmodDate  \\\n",
       "SourceFile                                                                             \n",
       "Karta S - H - S. Izdanje Zagreb. KING 1.jpg                2020:05:31 09:43:08+02:00   \n",
       "Karta S - H - S. Izdanje Zagreb. KING 2.jpg                2020:05:31 09:43:02+02:00   \n",
       "...                                                                              ...   \n",
       "Knjiga ZATVORSKA I SIBIRSKA SJEĆANJA 1926-1957 SAND 1.jpg  2020:07:04 10:24:24+02:00   \n",
       "Knjiga ZEC NA MJESECU. H. Šalković. 2007. SAND 2.jpg       2020:09:05 09:50:04+02:00   \n",
       "\n",
       "                                                                     AdateOrig  \\\n",
       "SourceFile                                                                       \n",
       "Karta S - H - S. Izdanje Zagreb. KING 1.jpg                2020:05:31 09:23:31   \n",
       "Karta S - H - S. Izdanje Zagreb. KING 2.jpg                2020:05:31 09:22:50   \n",
       "...                                                                        ...   \n",
       "Knjiga ZATVORSKA I SIBIRSKA SJEĆANJA 1926-1957 SAND 1.jpg  2020:07:04 09:54:56   \n",
       "Knjiga ZEC NA MJESECU. H. Šalković. 2007. SAND 2.jpg       2020:09:05 09:01:20   \n",
       "\n",
       "                                                                     OdateOrig  \\\n",
       "SourceFile                                                                       \n",
       "Karta S - H - S. Izdanje Zagreb. KING 1.jpg                2020:05:31 09:23:31   \n",
       "Karta S - H - S. Izdanje Zagreb. KING 2.jpg                2020:05:31 09:22:50   \n",
       "...                                                                        ...   \n",
       "Knjiga ZATVORSKA I SIBIRSKA SJEĆANJA 1926-1957 SAND 1.jpg  2020:07:04 09:54:56   \n",
       "Knjiga ZEC NA MJESECU. H. Šalković. 2007. SAND 2.jpg       2020:09:05 09:01:20   \n",
       "\n",
       "                                                           result  \n",
       "SourceFile                                                         \n",
       "Karta S - H - S. Izdanje Zagreb. KING 1.jpg                  38.0  \n",
       "Karta S - H - S. Izdanje Zagreb. KING 2.jpg                  72.0  \n",
       "...                                                           ...  \n",
       "Knjiga ZATVORSKA I SIBIRSKA SJEĆANJA 1926-1957 SAND 1.jpg    12.0  \n",
       "Knjiga ZEC NA MJESECU. H. Šalković. 2007. SAND 2.jpg        110.0  \n",
       "\n",
       "[7 rows x 17 columns]"
      ]
     },
     "execution_count": 35,
     "metadata": {},
     "output_type": "execute_result"
    }
   ],
   "source": [
    "tmp.to_csv(r\"out_index_landscape_diff_tag_thumb_veci_provjeri_slike.txt\", columns = [], header = False, quoting = csv.QUOTE_NONE, escapechar = \"\\\\\")\n",
    "tmp"
   ]
  },
  {
   "cell_type": "markdown",
   "metadata": {},
   "source": [
    "after this, use gvim to remove escape characters from filenames and trailiing spaces"
   ]
  }
 ],
 "metadata": {
  "kernelspec": {
   "display_name": "Python 3",
   "language": "python",
   "name": "python3"
  },
  "language_info": {
   "codemirror_mode": {
    "name": "ipython",
    "version": 3
   },
   "file_extension": ".py",
   "mimetype": "text/x-python",
   "name": "python",
   "nbconvert_exporter": "python",
   "pygments_lexer": "ipython3",
   "version": "3.8.5"
  }
 },
 "nbformat": 4,
 "nbformat_minor": 4
}
